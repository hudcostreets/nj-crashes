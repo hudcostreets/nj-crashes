{
    "cells": [
        {
            "cell_type": "markdown",
            "metadata": {
                "tags": []
            },
            "source": [
                "# NJSP Fatal Crash Plots\n",
                "This notebook is run as part of the daily update Github Action:\n",
                "```bash\n",
                "njsp -cc update_plots\n",
                "```\n",
                "It updates plots based on the latest NJSP fatal crash data (in this Git repo).\n",
                "\n",
                "It also computes an estimate for the number of traffic deaths in the remainder of the current year (which helps make sense of otherwise-incomplete data about the current year)."
            ]
        },
        {
            "cell_type": "code",
            "execution_count": 1,
            "metadata": {
                "tags": []
            },
            "outputs": [],
            "source": [
                "from utz import *\n",
                "import json\n",
                "from utz import plots\n",
                "import plotly.graph_objects as go\n",
                "import plotly.express as px\n",
                "from nj_crashes.paths import PLOTS_DIR, ROOT_DIR\n",
                "from njsp.crashes import load\n",
                "from njsp.paths import PROJECTED_CSV, PROJECTED_TOTALS_PATH, RUNDATE_PATH\n",
                "from njsp.ytd import Ytd, normalized_ytd_days"
            ]
        },
        {
            "cell_type": "markdown",
            "metadata": {
                "tags": []
            },
            "source": [
                "[Papermill](https://papermill.readthedocs.io/) parameters:"
            ]
        },
        {
            "cell_type": "code",
            "execution_count": 2,
            "metadata": {
                "tags": [
                    "parameters"
                ]
            },
            "outputs": [],
            "source": [
                "show = None\n",
                "ytc_fmts = 'csv'  # comma-delimited subset of {csv, pqt, db}"
            ]
        },
        {
            "cell_type": "code",
            "execution_count": 3,
            "metadata": {
                "tags": [
                    "injected-parameters"
                ]
            },
            "outputs": [],
            "source": [
                "# Parameters\n",
                "show = \"png\"\n"
            ]
        },
        {
            "cell_type": "markdown",
            "metadata": {
                "tags": []
            },
            "source": [
                "Common settings for plots created later:"
            ]
        },
        {
            "cell_type": "code",
            "execution_count": 4,
            "metadata": {
                "tags": []
            },
            "outputs": [],
            "source": [
                "save = partial(\n",
                "    plots.save,\n",
                "    bg='white',\n",
                "    xgrid='#ccc',\n",
                "    ygrid='#ccc',\n",
                "    hoverx=True,\n",
                "    show=show,\n",
                "    dir=PLOTS_DIR,\n",
                "    bottom_legend='all',\n",
                "    title_suffix='_titled',\n",
                ")"
            ]
        },
        {
            "cell_type": "markdown",
            "metadata": {
                "tags": []
            },
            "source": [
                "## Load most recent NJSP fatal crash data\n",
                "This table is produced by the `njsp -cc update_pqts` step that precedes this in [the daily Github Action](.github/workflows/daily.yml):"
            ]
        },
        {
            "cell_type": "code",
            "execution_count": 5,
            "metadata": {
                "tags": []
            },
            "outputs": [
                {
                    "data": {
                        "text/html": [
                            "<div>\n",
                            "<style scoped>\n",
                            "    .dataframe tbody tr th:only-of-type {\n",
                            "        vertical-align: middle;\n",
                            "    }\n",
                            "\n",
                            "    .dataframe tbody tr th {\n",
                            "        vertical-align: top;\n",
                            "    }\n",
                            "\n",
                            "    .dataframe thead th {\n",
                            "        text-align: right;\n",
                            "    }\n",
                            "</style>\n",
                            "<table border=\"1\" class=\"dataframe\">\n",
                            "  <thead>\n",
                            "    <tr style=\"text-align: right;\">\n",
                            "      <th></th>\n",
                            "      <th>cc</th>\n",
                            "      <th>mc</th>\n",
                            "      <th>dt</th>\n",
                            "      <th>tk</th>\n",
                            "      <th>ti</th>\n",
                            "      <th>dk</th>\n",
                            "      <th>ok</th>\n",
                            "      <th>pk</th>\n",
                            "      <th>bk</th>\n",
                            "      <th>location</th>\n",
                            "      <th>street</th>\n",
                            "      <th>highway</th>\n",
                            "    </tr>\n",
                            "    <tr>\n",
                            "      <th>id</th>\n",
                            "      <th></th>\n",
                            "      <th></th>\n",
                            "      <th></th>\n",
                            "      <th></th>\n",
                            "      <th></th>\n",
                            "      <th></th>\n",
                            "      <th></th>\n",
                            "      <th></th>\n",
                            "      <th></th>\n",
                            "      <th></th>\n",
                            "      <th></th>\n",
                            "      <th></th>\n",
                            "    </tr>\n",
                            "  </thead>\n",
                            "  <tbody>\n",
                            "    <tr>\n",
                            "      <th>1703</th>\n",
                            "      <td>1</td>\n",
                            "      <td>2</td>\n",
                            "      <td>2008-01-01 00:35:00-05:00</td>\n",
                            "      <td>1</td>\n",
                            "      <td>1</td>\n",
                            "      <td>&lt;NA&gt;</td>\n",
                            "      <td>&lt;NA&gt;</td>\n",
                            "      <td>&lt;NA&gt;</td>\n",
                            "      <td>&lt;NA&gt;</td>\n",
                            "      <td>State/Interstate Authority 446 S MP 1</td>\n",
                            "      <td>None</td>\n",
                            "      <td>446</td>\n",
                            "    </tr>\n",
                            "    <tr>\n",
                            "      <th>1681</th>\n",
                            "      <td>9</td>\n",
                            "      <td>10</td>\n",
                            "      <td>2008-01-01 04:11:00-05:00</td>\n",
                            "      <td>1</td>\n",
                            "      <td>&lt;NA&gt;</td>\n",
                            "      <td>&lt;NA&gt;</td>\n",
                            "      <td>&lt;NA&gt;</td>\n",
                            "      <td>&lt;NA&gt;</td>\n",
                            "      <td>&lt;NA&gt;</td>\n",
                            "      <td>Bergenline Ave S MP 0 at 6th St</td>\n",
                            "      <td>Bergenline Ave</td>\n",
                            "      <td>None</td>\n",
                            "    </tr>\n",
                            "    <tr>\n",
                            "      <th>1659</th>\n",
                            "      <td>4</td>\n",
                            "      <td>15</td>\n",
                            "      <td>2008-01-01 06:46:00-05:00</td>\n",
                            "      <td>1</td>\n",
                            "      <td>1</td>\n",
                            "      <td>&lt;NA&gt;</td>\n",
                            "      <td>&lt;NA&gt;</td>\n",
                            "      <td>&lt;NA&gt;</td>\n",
                            "      <td>&lt;NA&gt;</td>\n",
                            "      <td>State Highway 42 N MP 8.2</td>\n",
                            "      <td>None</td>\n",
                            "      <td>42</td>\n",
                            "    </tr>\n",
                            "    <tr>\n",
                            "      <th>1661</th>\n",
                            "      <td>20</td>\n",
                            "      <td>4</td>\n",
                            "      <td>2008-01-01 12:29:00-05:00</td>\n",
                            "      <td>1</td>\n",
                            "      <td>1</td>\n",
                            "      <td>&lt;NA&gt;</td>\n",
                            "      <td>&lt;NA&gt;</td>\n",
                            "      <td>&lt;NA&gt;</td>\n",
                            "      <td>&lt;NA&gt;</td>\n",
                            "      <td>County 624 W MP 2.2 at Ikea Dr</td>\n",
                            "      <td>None</td>\n",
                            "      <td>624</td>\n",
                            "    </tr>\n",
                            "    <tr>\n",
                            "      <th>1811</th>\n",
                            "      <td>7</td>\n",
                            "      <td>16</td>\n",
                            "      <td>2008-01-01 18:53:00-05:00</td>\n",
                            "      <td>1</td>\n",
                            "      <td>&lt;NA&gt;</td>\n",
                            "      <td>&lt;NA&gt;</td>\n",
                            "      <td>&lt;NA&gt;</td>\n",
                            "      <td>&lt;NA&gt;</td>\n",
                            "      <td>&lt;NA&gt;</td>\n",
                            "      <td>County 648 E MP .87 at Franklin Ave</td>\n",
                            "      <td>None</td>\n",
                            "      <td>648</td>\n",
                            "    </tr>\n",
                            "    <tr>\n",
                            "      <th>...</th>\n",
                            "      <td>...</td>\n",
                            "      <td>...</td>\n",
                            "      <td>...</td>\n",
                            "      <td>...</td>\n",
                            "      <td>...</td>\n",
                            "      <td>...</td>\n",
                            "      <td>...</td>\n",
                            "      <td>...</td>\n",
                            "      <td>...</td>\n",
                            "      <td>...</td>\n",
                            "      <td>...</td>\n",
                            "      <td>...</td>\n",
                            "    </tr>\n",
                            "    <tr>\n",
                            "      <th>13898</th>\n",
                            "      <td>7</td>\n",
                            "      <td>10</td>\n",
                            "      <td>2025-05-08 00:59:00-04:00</td>\n",
                            "      <td>1</td>\n",
                            "      <td>&lt;NA&gt;</td>\n",
                            "      <td>0</td>\n",
                            "      <td>0</td>\n",
                            "      <td>1</td>\n",
                            "      <td>0</td>\n",
                            "      <td>County 635</td>\n",
                            "      <td>None</td>\n",
                            "      <td>635</td>\n",
                            "    </tr>\n",
                            "    <tr>\n",
                            "      <th>13899</th>\n",
                            "      <td>17</td>\n",
                            "      <td>6</td>\n",
                            "      <td>2025-05-09 01:08:00-04:00</td>\n",
                            "      <td>1</td>\n",
                            "      <td>&lt;NA&gt;</td>\n",
                            "      <td>1</td>\n",
                            "      <td>0</td>\n",
                            "      <td>0</td>\n",
                            "      <td>0</td>\n",
                            "      <td>County 613</td>\n",
                            "      <td>None</td>\n",
                            "      <td>613</td>\n",
                            "    </tr>\n",
                            "    <tr>\n",
                            "      <th>13900</th>\n",
                            "      <td>15</td>\n",
                            "      <td>8</td>\n",
                            "      <td>2025-05-09 22:24:00-04:00</td>\n",
                            "      <td>1</td>\n",
                            "      <td>&lt;NA&gt;</td>\n",
                            "      <td>0</td>\n",
                            "      <td>0</td>\n",
                            "      <td>0</td>\n",
                            "      <td>1</td>\n",
                            "      <td>State Highway 70</td>\n",
                            "      <td>None</td>\n",
                            "      <td>70</td>\n",
                            "    </tr>\n",
                            "    <tr>\n",
                            "      <th>13902</th>\n",
                            "      <td>11</td>\n",
                            "      <td>6</td>\n",
                            "      <td>2025-05-12 19:08:00-04:00</td>\n",
                            "      <td>1</td>\n",
                            "      <td>&lt;NA&gt;</td>\n",
                            "      <td>1</td>\n",
                            "      <td>0</td>\n",
                            "      <td>0</td>\n",
                            "      <td>0</td>\n",
                            "      <td>State Highway 31</td>\n",
                            "      <td>None</td>\n",
                            "      <td>31</td>\n",
                            "    </tr>\n",
                            "    <tr>\n",
                            "      <th>13903</th>\n",
                            "      <td>15</td>\n",
                            "      <td>15</td>\n",
                            "      <td>2025-05-13 02:40:00-04:00</td>\n",
                            "      <td>1</td>\n",
                            "      <td>&lt;NA&gt;</td>\n",
                            "      <td>0</td>\n",
                            "      <td>1</td>\n",
                            "      <td>0</td>\n",
                            "      <td>0</td>\n",
                            "      <td>County 528 MP 33.5</td>\n",
                            "      <td>None</td>\n",
                            "      <td>528</td>\n",
                            "    </tr>\n",
                            "  </tbody>\n",
                            "</table>\n",
                            "<p>9790 rows \u00d7 12 columns</p>\n",
                            "</div>"
                        ],
                        "text/plain": [
                            "       cc  mc                        dt  tk    ti    dk    ok    pk    bk  \\\n",
                            "id                                                                          \n",
                            "1703    1   2 2008-01-01 00:35:00-05:00   1     1  <NA>  <NA>  <NA>  <NA>   \n",
                            "1681    9  10 2008-01-01 04:11:00-05:00   1  <NA>  <NA>  <NA>  <NA>  <NA>   \n",
                            "1659    4  15 2008-01-01 06:46:00-05:00   1     1  <NA>  <NA>  <NA>  <NA>   \n",
                            "1661   20   4 2008-01-01 12:29:00-05:00   1     1  <NA>  <NA>  <NA>  <NA>   \n",
                            "1811    7  16 2008-01-01 18:53:00-05:00   1  <NA>  <NA>  <NA>  <NA>  <NA>   \n",
                            "...    ..  ..                       ...  ..   ...   ...   ...   ...   ...   \n",
                            "13898   7  10 2025-05-08 00:59:00-04:00   1  <NA>     0     0     1     0   \n",
                            "13899  17   6 2025-05-09 01:08:00-04:00   1  <NA>     1     0     0     0   \n",
                            "13900  15   8 2025-05-09 22:24:00-04:00   1  <NA>     0     0     0     1   \n",
                            "13902  11   6 2025-05-12 19:08:00-04:00   1  <NA>     1     0     0     0   \n",
                            "13903  15  15 2025-05-13 02:40:00-04:00   1  <NA>     0     1     0     0   \n",
                            "\n",
                            "                                    location          street highway  \n",
                            "id                                                                    \n",
                            "1703   State/Interstate Authority 446 S MP 1            None     446  \n",
                            "1681         Bergenline Ave S MP 0 at 6th St  Bergenline Ave    None  \n",
                            "1659               State Highway 42 N MP 8.2            None      42  \n",
                            "1661          County 624 W MP 2.2 at Ikea Dr            None     624  \n",
                            "1811     County 648 E MP .87 at Franklin Ave            None     648  \n",
                            "...                                      ...             ...     ...  \n",
                            "13898                             County 635            None     635  \n",
                            "13899                             County 613            None     613  \n",
                            "13900                       State Highway 70            None      70  \n",
                            "13902                       State Highway 31            None      31  \n",
                            "13903                     County 528 MP 33.5            None     528  \n",
                            "\n",
                            "[9790 rows x 12 columns]"
                        ]
                    },
                    "execution_count": 5,
                    "metadata": {},
                    "output_type": "execute_result"
                }
            ],
            "source": [
                "crashes = load()\n",
                "crashes"
            ]
        },
        {
            "cell_type": "markdown",
            "metadata": {
                "tags": []
            },
            "source": [
                "Load info about when the NJSP data was most recently updated:"
            ]
        },
        {
            "cell_type": "code",
            "execution_count": 6,
            "metadata": {
                "tags": []
            },
            "outputs": [
                {
                    "name": "stdout",
                    "output_type": "stream",
                    "text": [
                        "Most recent NJSP run date: 2025-05-13 10:00:01-04:00\n",
                        "Most recent month end: 2025-05-01 00:00:00-04:00\n",
                        "Current year start: 2025-01-01 00:00:00-05:00\n",
                        "Next year start: 2026-01-01 00:00:00-05:00\n"
                    ]
                }
            ],
            "source": [
                "from njsp import Rundate\n",
                "rundate = Rundate()\n",
                "print(f'Most recent NJSP run date: {rundate}')\n",
                "print(f'Most recent month end: {rundate.cur_month_dt}')\n",
                "print(f'Current year start: {rundate.cur_year_dt}')\n",
                "print(f'Next year start: {rundate.nxt_year_dt}')"
            ]
        },
        {
            "cell_type": "markdown",
            "metadata": {
                "tags": []
            },
            "source": [
                "## YTD Calculations\n",
                "Create series that cumulatively sum year-to-date deaths (as of each day in the dataset history, going back to January 1, 2008)."
            ]
        },
        {
            "cell_type": "markdown",
            "metadata": {
                "tags": []
            },
            "source": [
                "### Plot YTD counts, for each year \u22652008"
            ]
        },
        {
            "cell_type": "code",
            "execution_count": 7,
            "metadata": {
                "tags": []
            },
            "outputs": [],
            "source": [
                "years = crashes.dt.dt.year.unique()"
            ]
        },
        {
            "cell_type": "markdown",
            "metadata": {
                "tags": []
            },
            "source": [
                "#### Color utilities"
            ]
        },
        {
            "cell_type": "code",
            "execution_count": 8,
            "metadata": {
                "tags": []
            },
            "outputs": [
                {
                    "data": {
                        "text/plain": [
                            "{'black': '#000004', 'red': '#ae3159', 'year_colors': ['#fcffa4', '#f9e66d', '#f7cd39', '#f9b11c', '#f99509', '#f17a1a', '#e7622a', '#d74e3c', '#c53e4c', '#ae3159', '#972763', '#7f1e6a', '#67166c', '#4f0d6b', '#360c59', '#1d0c43', '#0e0624', '#000004']}"
                        ]
                    },
                    "execution_count": 8,
                    "metadata": {},
                    "output_type": "execute_result"
                }
            ],
            "source": [
                "from utz.colors import RGB, color_interp, colors_lengthen, swatches\n",
                "from nj_crashes.colors import get_colors, gridcolor, px_colors\n",
                "\n",
                "colors = get_colors(len(years))\n",
                "black, red, year_colors = colors.black, colors.red, colors.year_colors\n",
                "colors"
            ]
        },
        {
            "cell_type": "code",
            "execution_count": 9,
            "metadata": {
                "tags": []
            },
            "outputs": [
                {
                    "data": {
                        "text/plain": [
                            "['Jan 1',\n",
                            " 'Feb 1',\n",
                            " 'Mar 1',\n",
                            " 'Apr 1',\n",
                            " 'May 1',\n",
                            " 'Jun 1',\n",
                            " 'Jul 1',\n",
                            " 'Aug 1',\n",
                            " 'Sep 1',\n",
                            " 'Oct 1',\n",
                            " 'Nov 1',\n",
                            " 'Dec 1']"
                        ]
                    },
                    "execution_count": 9,
                    "metadata": {},
                    "output_type": "execute_result"
                }
            ],
            "source": [
                "cur_year = rundate.year\n",
                "month_starts = [\n",
                "    to_dt(f'{cur_year}-{m}').strftime('%b 1')\n",
                "    for m in range(1, 13)\n",
                "]\n",
                "month_starts"
            ]
        },
        {
            "cell_type": "code",
            "execution_count": 10,
            "metadata": {
                "tags": []
            },
            "outputs": [],
            "source": [
                "ytd = Ytd()"
            ]
        },
        {
            "cell_type": "code",
            "execution_count": 11,
            "metadata": {
                "tags": []
            },
            "outputs": [
                {
                    "name": "stderr",
                    "output_type": "stream",
                    "text": [
                        "Wrote plot JSON to www/public/plots/ytd-deaths.json\n"
                    ]
                },
                {
                    "name": "stderr",
                    "output_type": "stream",
                    "text": [
                        "Wrote plot image to www/public/plots/ytd-deaths.png\n"
                    ]
                },
                {
                    "name": "stderr",
                    "output_type": "stream",
                    "text": [
                        "Wrote plot image to www/public/plots/ytd-deaths_titled.png\n"
                    ]
                }
            ],
            "source": [
                "save(\n",
                "    px.line(\n",
                "        ytd.ytds,\n",
                "        x='Text', y='YTD Deaths', color='Year',\n",
                "        color_discrete_sequence=year_colors,\n",
                "    ),\n",
                "    'ytd-deaths',\n",
                "    'NJ Traffic Deaths \u2013 YTD',\n",
                "    x=dict(\n",
                "        title='',\n",
                "        dtick=50,\n",
                "        tickmode='array',\n",
                "        tickvals=month_starts,\n",
                "        ticktext=month_starts,\n",
                "    ),\n",
                "    y='',\n",
                "    legend='reversed',\n",
                "    png=(850, 800),\n",
                ");"
            ]
        },
        {
            "cell_type": "markdown",
            "metadata": {
                "tags": []
            },
            "source": [
                "![](../www/public/plots/ytd-deaths_titled.png)"
            ]
        },
        {
            "cell_type": "markdown",
            "metadata": {
                "tags": []
            },
            "source": [
                "## Plot deaths by {year, victim type}"
            ]
        },
        {
            "cell_type": "markdown",
            "metadata": {
                "tags": []
            },
            "source": [
                "### Group by year"
            ]
        },
        {
            "cell_type": "code",
            "execution_count": 12,
            "metadata": {
                "tags": []
            },
            "outputs": [],
            "source": [
                "dt = crashes.dt.dt\n",
                "fatalities_per_year = crashes.tk.groupby(dt.year).sum().astype(int).rename('NJSP records')"
            ]
        },
        {
            "cell_type": "markdown",
            "metadata": {
                "tags": []
            },
            "source": [
                "### Group by month"
            ]
        },
        {
            "cell_type": "code",
            "execution_count": 13,
            "metadata": {
                "tags": []
            },
            "outputs": [
                {
                    "data": {
                        "text/plain": [
                            "id\n",
                            "1703     2008-01\n",
                            "1681     2008-01\n",
                            "1659     2008-01\n",
                            "1661     2008-01\n",
                            "1811     2008-01\n",
                            "          ...   \n",
                            "13898    2025-05\n",
                            "13899    2025-05\n",
                            "13900    2025-05\n",
                            "13902    2025-05\n",
                            "13903    2025-05\n",
                            "Name: ym, Length: 9790, dtype: object"
                        ]
                    },
                    "execution_count": 13,
                    "metadata": {},
                    "output_type": "execute_result"
                }
            ],
            "source": [
                "ym = crashes.dt.apply(lambda d: d.strftime('%Y-%m')).rename('ym')\n",
                "ym"
            ]
        },
        {
            "cell_type": "code",
            "execution_count": 14,
            "metadata": {
                "tags": []
            },
            "outputs": [
                {
                    "data": {
                        "text/plain": [
                            "ym\n",
                            "2008-01    59\n",
                            "2008-02    40\n",
                            "2008-03    33\n",
                            "2008-04    50\n",
                            "2008-05    46\n",
                            "           ..\n",
                            "2024-12    52\n",
                            "2025-01    35\n",
                            "2025-02    42\n",
                            "2025-03    39\n",
                            "2025-04    52\n",
                            "Name: tk, Length: 208, dtype: Int8"
                        ]
                    },
                    "execution_count": 14,
                    "metadata": {},
                    "output_type": "execute_result"
                }
            ],
            "source": [
                "cur_month = rundate.cur_month_dt\n",
                "TZ = cur_month.tz\n",
                "fatalities_per_month = crashes[crashes.dt < cur_month].tk.groupby(ym).sum()\n",
                "fatalities_per_month"
            ]
        },
        {
            "cell_type": "markdown",
            "metadata": {
                "tags": []
            },
            "source": [
                "### Rolling avg"
            ]
        },
        {
            "cell_type": "code",
            "execution_count": 15,
            "metadata": {
                "tags": []
            },
            "outputs": [
                {
                    "data": {
                        "text/plain": [
                            "ym\n",
                            "2008-01          NaN\n",
                            "2008-02          NaN\n",
                            "2008-03          NaN\n",
                            "2008-04          NaN\n",
                            "2008-05          NaN\n",
                            "             ...    \n",
                            "2024-12    57.083333\n",
                            "2025-01    56.000000\n",
                            "2025-02    55.250000\n",
                            "2025-03    54.333333\n",
                            "2025-04    54.000000\n",
                            "Name: tk, Length: 208, dtype: float64"
                        ]
                    },
                    "execution_count": 15,
                    "metadata": {},
                    "output_type": "execute_result"
                }
            ],
            "source": [
                "rolling = fatalities_per_month.rolling(12).mean()\n",
                "rolling"
            ]
        },
        {
            "cell_type": "code",
            "execution_count": 16,
            "metadata": {
                "tags": []
            },
            "outputs": [
                {
                    "data": {
                        "text/html": [
                            "<div>\n",
                            "<style scoped>\n",
                            "    .dataframe tbody tr th:only-of-type {\n",
                            "        vertical-align: middle;\n",
                            "    }\n",
                            "\n",
                            "    .dataframe tbody tr th {\n",
                            "        vertical-align: top;\n",
                            "    }\n",
                            "\n",
                            "    .dataframe thead th {\n",
                            "        text-align: right;\n",
                            "    }\n",
                            "</style>\n",
                            "<table border=\"1\" class=\"dataframe\">\n",
                            "  <thead>\n",
                            "    <tr style=\"text-align: right;\">\n",
                            "      <th></th>\n",
                            "      <th></th>\n",
                            "      <th>tk</th>\n",
                            "    </tr>\n",
                            "    <tr>\n",
                            "      <th>year</th>\n",
                            "      <th>month</th>\n",
                            "      <th></th>\n",
                            "    </tr>\n",
                            "  </thead>\n",
                            "  <tbody>\n",
                            "    <tr>\n",
                            "      <th rowspan=\"5\" valign=\"top\">2008</th>\n",
                            "      <th>1</th>\n",
                            "      <td>59</td>\n",
                            "    </tr>\n",
                            "    <tr>\n",
                            "      <th>2</th>\n",
                            "      <td>40</td>\n",
                            "    </tr>\n",
                            "    <tr>\n",
                            "      <th>3</th>\n",
                            "      <td>33</td>\n",
                            "    </tr>\n",
                            "    <tr>\n",
                            "      <th>4</th>\n",
                            "      <td>50</td>\n",
                            "    </tr>\n",
                            "    <tr>\n",
                            "      <th>5</th>\n",
                            "      <td>46</td>\n",
                            "    </tr>\n",
                            "    <tr>\n",
                            "      <th>...</th>\n",
                            "      <th>...</th>\n",
                            "      <td>...</td>\n",
                            "    </tr>\n",
                            "    <tr>\n",
                            "      <th rowspan=\"5\" valign=\"top\">2025</th>\n",
                            "      <th>1</th>\n",
                            "      <td>35</td>\n",
                            "    </tr>\n",
                            "    <tr>\n",
                            "      <th>2</th>\n",
                            "      <td>42</td>\n",
                            "    </tr>\n",
                            "    <tr>\n",
                            "      <th>3</th>\n",
                            "      <td>39</td>\n",
                            "    </tr>\n",
                            "    <tr>\n",
                            "      <th>4</th>\n",
                            "      <td>52</td>\n",
                            "    </tr>\n",
                            "    <tr>\n",
                            "      <th>5</th>\n",
                            "      <td>14</td>\n",
                            "    </tr>\n",
                            "  </tbody>\n",
                            "</table>\n",
                            "<p>209 rows \u00d7 1 columns</p>\n",
                            "</div>"
                        ],
                        "text/plain": [
                            "            tk\n",
                            "year month    \n",
                            "2008 1      59\n",
                            "     2      40\n",
                            "     3      33\n",
                            "     4      50\n",
                            "     5      46\n",
                            "...         ..\n",
                            "2025 1      35\n",
                            "     2      42\n",
                            "     3      39\n",
                            "     4      52\n",
                            "     5      14\n",
                            "\n",
                            "[209 rows x 1 columns]"
                        ]
                    },
                    "execution_count": 16,
                    "metadata": {},
                    "output_type": "execute_result"
                }
            ],
            "source": [
                "mos = (\n",
                "    sxs(\n",
                "        dt.year.rename('year'),\n",
                "        dt.month.rename('month'),\n",
                "        crashes.tk,\n",
                "    )\n",
                "    .groupby(['year', 'month']).sum()\n",
                ")\n",
                "mos"
            ]
        },
        {
            "cell_type": "code",
            "execution_count": 17,
            "metadata": {
                "tags": []
            },
            "outputs": [
                {
                    "data": {
                        "text/html": [
                            "<div>\n",
                            "<style scoped>\n",
                            "    .dataframe tbody tr th:only-of-type {\n",
                            "        vertical-align: middle;\n",
                            "    }\n",
                            "\n",
                            "    .dataframe tbody tr th {\n",
                            "        vertical-align: top;\n",
                            "    }\n",
                            "\n",
                            "    .dataframe thead th {\n",
                            "        text-align: right;\n",
                            "    }\n",
                            "</style>\n",
                            "<table border=\"1\" class=\"dataframe\">\n",
                            "  <thead>\n",
                            "    <tr style=\"text-align: right;\">\n",
                            "      <th></th>\n",
                            "      <th>year</th>\n",
                            "      <th>month</th>\n",
                            "      <th>tk</th>\n",
                            "    </tr>\n",
                            "  </thead>\n",
                            "  <tbody>\n",
                            "    <tr>\n",
                            "      <th>0</th>\n",
                            "      <td>2008</td>\n",
                            "      <td>1</td>\n",
                            "      <td>59</td>\n",
                            "    </tr>\n",
                            "    <tr>\n",
                            "      <th>12</th>\n",
                            "      <td>2009</td>\n",
                            "      <td>1</td>\n",
                            "      <td>57</td>\n",
                            "    </tr>\n",
                            "    <tr>\n",
                            "      <th>24</th>\n",
                            "      <td>2010</td>\n",
                            "      <td>1</td>\n",
                            "      <td>37</td>\n",
                            "    </tr>\n",
                            "    <tr>\n",
                            "      <th>36</th>\n",
                            "      <td>2011</td>\n",
                            "      <td>1</td>\n",
                            "      <td>36</td>\n",
                            "    </tr>\n",
                            "    <tr>\n",
                            "      <th>48</th>\n",
                            "      <td>2012</td>\n",
                            "      <td>1</td>\n",
                            "      <td>52</td>\n",
                            "    </tr>\n",
                            "    <tr>\n",
                            "      <th>...</th>\n",
                            "      <td>...</td>\n",
                            "      <td>...</td>\n",
                            "      <td>...</td>\n",
                            "    </tr>\n",
                            "    <tr>\n",
                            "      <th>155</th>\n",
                            "      <td>2020</td>\n",
                            "      <td>12</td>\n",
                            "      <td>47</td>\n",
                            "    </tr>\n",
                            "    <tr>\n",
                            "      <th>167</th>\n",
                            "      <td>2021</td>\n",
                            "      <td>12</td>\n",
                            "      <td>61</td>\n",
                            "    </tr>\n",
                            "    <tr>\n",
                            "      <th>179</th>\n",
                            "      <td>2022</td>\n",
                            "      <td>12</td>\n",
                            "      <td>50</td>\n",
                            "    </tr>\n",
                            "    <tr>\n",
                            "      <th>191</th>\n",
                            "      <td>2023</td>\n",
                            "      <td>12</td>\n",
                            "      <td>58</td>\n",
                            "    </tr>\n",
                            "    <tr>\n",
                            "      <th>203</th>\n",
                            "      <td>2024</td>\n",
                            "      <td>12</td>\n",
                            "      <td>52</td>\n",
                            "    </tr>\n",
                            "  </tbody>\n",
                            "</table>\n",
                            "<p>208 rows \u00d7 3 columns</p>\n",
                            "</div>"
                        ],
                        "text/plain": [
                            "     year  month  tk\n",
                            "0    2008      1  59\n",
                            "12   2009      1  57\n",
                            "24   2010      1  37\n",
                            "36   2011      1  36\n",
                            "48   2012      1  52\n",
                            "..    ...    ...  ..\n",
                            "155  2020     12  47\n",
                            "167  2021     12  61\n",
                            "179  2022     12  50\n",
                            "191  2023     12  58\n",
                            "203  2024     12  52\n",
                            "\n",
                            "[208 rows x 3 columns]"
                        ]
                    },
                    "execution_count": 17,
                    "metadata": {},
                    "output_type": "execute_result"
                }
            ],
            "source": [
                "pivoted = mos.reset_index().sort_values(['month', 'year'])\n",
                "pivoted = pivoted[\n",
                "    pivoted.apply(\n",
                "        lambda r: to_dt('%d-%02d' % (r.year, r.month)).tz_localize(cur_month.tz) < cur_month,\n",
                "        axis=1\n",
                "    )\n",
                "]\n",
                "pivoted"
            ]
        },
        {
            "cell_type": "code",
            "execution_count": 18,
            "metadata": {
                "tags": []
            },
            "outputs": [
                {
                    "data": {
                        "text/plain": [
                            "dt    dt\n",
                            "2008  1     59\n",
                            "      2     40\n",
                            "      3     33\n",
                            "      4     50\n",
                            "      5     46\n",
                            "            ..\n",
                            "2025  1     35\n",
                            "      2     42\n",
                            "      3     39\n",
                            "      4     52\n",
                            "      5     14\n",
                            "Name: tk, Length: 209, dtype: Int8"
                        ]
                    },
                    "execution_count": 18,
                    "metadata": {},
                    "output_type": "execute_result"
                }
            ],
            "source": [
                "by_month = crashes.tk.groupby([dt.year, dt.month]).sum()\n",
                "by_month"
            ]
        },
        {
            "cell_type": "markdown",
            "metadata": {
                "tags": []
            },
            "source": [
                "### Break out victim \"types\""
            ]
        },
        {
            "cell_type": "markdown",
            "metadata": {
                "tags": []
            },
            "source": [
                "Check victim \"type\" subtotals vs. total:"
            ]
        },
        {
            "cell_type": "code",
            "execution_count": 19,
            "metadata": {
                "tags": []
            },
            "outputs": [
                {
                    "data": {
                        "text/plain": [
                            "dt\n",
                            "2008    590\n",
                            "2009    584\n",
                            "2010    556\n",
                            "2011    627\n",
                            "2012    589\n",
                            "2013    542\n",
                            "2014    556\n",
                            "2015    562\n",
                            "2016    602\n",
                            "2017    624\n",
                            "2018    563\n",
                            "2019    558\n",
                            "2020      0\n",
                            "2021      0\n",
                            "2022      0\n",
                            "2023      0\n",
                            "2024      0\n",
                            "2025      0\n",
                            "Name: diff, dtype: Int64"
                        ]
                    },
                    "execution_count": 19,
                    "metadata": {},
                    "output_type": "execute_result"
                }
            ],
            "source": [
                "fatal_totals = sxs(*[crashes[f'{t}k'].fillna(0) for t in 'dopb']).sum(axis=1)\n",
                "sxs(crashes.dt, (crashes.tk - fatal_totals).rename('diff')).groupby(dt.year)['diff'].sum()"
            ]
        },
        {
            "cell_type": "markdown",
            "metadata": {
                "tags": []
            },
            "source": [
                "Cross-reference with annual totals, populate \"unknown\" subtotal:"
            ]
        },
        {
            "cell_type": "code",
            "execution_count": 20,
            "metadata": {
                "tags": []
            },
            "outputs": [],
            "source": [
                "base_type_cols_map = {\n",
                "    'dk': 'driver',\n",
                "    'pk': 'pedestrian',\n",
                "    'ok': 'passenger',\n",
                "    'bk': 'cyclist',\n",
                "}\n",
                "base_type_cols = list(base_type_cols_map.values())"
            ]
        },
        {
            "cell_type": "code",
            "execution_count": 21,
            "metadata": {
                "tags": []
            },
            "outputs": [
                {
                    "data": {
                        "text/html": [
                            "<div>\n",
                            "<style scoped>\n",
                            "    .dataframe tbody tr th:only-of-type {\n",
                            "        vertical-align: middle;\n",
                            "    }\n",
                            "\n",
                            "    .dataframe tbody tr th {\n",
                            "        vertical-align: top;\n",
                            "    }\n",
                            "\n",
                            "    .dataframe thead th {\n",
                            "        text-align: right;\n",
                            "    }\n",
                            "</style>\n",
                            "<table border=\"1\" class=\"dataframe\">\n",
                            "  <thead>\n",
                            "    <tr style=\"text-align: right;\">\n",
                            "      <th></th>\n",
                            "      <th>driver</th>\n",
                            "      <th>passenger</th>\n",
                            "      <th>cyclist</th>\n",
                            "      <th>pedestrian</th>\n",
                            "      <th>crashes</th>\n",
                            "    </tr>\n",
                            "    <tr>\n",
                            "      <th>year</th>\n",
                            "      <th></th>\n",
                            "      <th></th>\n",
                            "      <th></th>\n",
                            "      <th></th>\n",
                            "      <th></th>\n",
                            "    </tr>\n",
                            "  </thead>\n",
                            "  <tbody>\n",
                            "    <tr>\n",
                            "      <th>2008</th>\n",
                            "      <td>320</td>\n",
                            "      <td>112</td>\n",
                            "      <td>20</td>\n",
                            "      <td>138</td>\n",
                            "      <td>555</td>\n",
                            "    </tr>\n",
                            "    <tr>\n",
                            "      <th>2009</th>\n",
                            "      <td>315</td>\n",
                            "      <td>98</td>\n",
                            "      <td>14</td>\n",
                            "      <td>157</td>\n",
                            "      <td>550</td>\n",
                            "    </tr>\n",
                            "    <tr>\n",
                            "      <th>2010</th>\n",
                            "      <td>303</td>\n",
                            "      <td>99</td>\n",
                            "      <td>13</td>\n",
                            "      <td>141</td>\n",
                            "      <td>530</td>\n",
                            "    </tr>\n",
                            "    <tr>\n",
                            "      <th>2011</th>\n",
                            "      <td>362</td>\n",
                            "      <td>105</td>\n",
                            "      <td>17</td>\n",
                            "      <td>143</td>\n",
                            "      <td>586</td>\n",
                            "    </tr>\n",
                            "    <tr>\n",
                            "      <th>2012</th>\n",
                            "      <td>309</td>\n",
                            "      <td>103</td>\n",
                            "      <td>14</td>\n",
                            "      <td>163</td>\n",
                            "      <td>553</td>\n",
                            "    </tr>\n",
                            "    <tr>\n",
                            "      <th>2013</th>\n",
                            "      <td>304</td>\n",
                            "      <td>92</td>\n",
                            "      <td>14</td>\n",
                            "      <td>132</td>\n",
                            "      <td>508</td>\n",
                            "    </tr>\n",
                            "    <tr>\n",
                            "      <th>2014</th>\n",
                            "      <td>295</td>\n",
                            "      <td>80</td>\n",
                            "      <td>11</td>\n",
                            "      <td>170</td>\n",
                            "      <td>523</td>\n",
                            "    </tr>\n",
                            "    <tr>\n",
                            "      <th>2015</th>\n",
                            "      <td>276</td>\n",
                            "      <td>96</td>\n",
                            "      <td>17</td>\n",
                            "      <td>173</td>\n",
                            "      <td>522</td>\n",
                            "    </tr>\n",
                            "    <tr>\n",
                            "      <th>2016</th>\n",
                            "      <td>330</td>\n",
                            "      <td>89</td>\n",
                            "      <td>17</td>\n",
                            "      <td>166</td>\n",
                            "      <td>570</td>\n",
                            "    </tr>\n",
                            "    <tr>\n",
                            "      <th>2017</th>\n",
                            "      <td>339</td>\n",
                            "      <td>85</td>\n",
                            "      <td>17</td>\n",
                            "      <td>183</td>\n",
                            "      <td>591</td>\n",
                            "    </tr>\n",
                            "    <tr>\n",
                            "      <th>2018</th>\n",
                            "      <td>276</td>\n",
                            "      <td>95</td>\n",
                            "      <td>17</td>\n",
                            "      <td>175</td>\n",
                            "      <td>524</td>\n",
                            "    </tr>\n",
                            "    <tr>\n",
                            "      <th>2019</th>\n",
                            "      <td>289</td>\n",
                            "      <td>81</td>\n",
                            "      <td>12</td>\n",
                            "      <td>176</td>\n",
                            "      <td>524</td>\n",
                            "    </tr>\n",
                            "    <tr>\n",
                            "      <th>2020</th>\n",
                            "      <td>304</td>\n",
                            "      <td>86</td>\n",
                            "      <td>18</td>\n",
                            "      <td>179</td>\n",
                            "      <td>550</td>\n",
                            "    </tr>\n",
                            "    <tr>\n",
                            "      <th>2021</th>\n",
                            "      <td>368</td>\n",
                            "      <td>86</td>\n",
                            "      <td>26</td>\n",
                            "      <td>217</td>\n",
                            "      <td>667</td>\n",
                            "    </tr>\n",
                            "    <tr>\n",
                            "      <th>2022</th>\n",
                            "      <td>379</td>\n",
                            "      <td>103</td>\n",
                            "      <td>16</td>\n",
                            "      <td>191</td>\n",
                            "      <td>646</td>\n",
                            "    </tr>\n",
                            "    <tr>\n",
                            "      <th>2023</th>\n",
                            "      <td>319</td>\n",
                            "      <td>89</td>\n",
                            "      <td>27</td>\n",
                            "      <td>171</td>\n",
                            "      <td>574</td>\n",
                            "    </tr>\n",
                            "  </tbody>\n",
                            "</table>\n",
                            "</div>"
                        ],
                        "text/plain": [
                            "      driver  passenger  cyclist  pedestrian  crashes\n",
                            "year                                                 \n",
                            "2008     320        112       20         138      555\n",
                            "2009     315         98       14         157      550\n",
                            "2010     303         99       13         141      530\n",
                            "2011     362        105       17         143      586\n",
                            "2012     309        103       14         163      553\n",
                            "2013     304         92       14         132      508\n",
                            "2014     295         80       11         170      523\n",
                            "2015     276         96       17         173      522\n",
                            "2016     330         89       17         166      570\n",
                            "2017     339         85       17         183      591\n",
                            "2018     276         95       17         175      524\n",
                            "2019     289         81       12         176      524\n",
                            "2020     304         86       18         179      550\n",
                            "2021     368         86       26         217      667\n",
                            "2022     379        103       16         191      646\n",
                            "2023     319         89       27         171      574"
                        ]
                    },
                    "execution_count": 21,
                    "metadata": {},
                    "output_type": "execute_result"
                }
            ],
            "source": [
                "from njsp.paths import ANNUAL_SUMMARIES_YT_CSV\n",
                "\n",
                "year_stats = read_csv(ANNUAL_SUMMARIES_YT_CSV).astype(int).set_index('year')\n",
                "year_stats"
            ]
        },
        {
            "cell_type": "code",
            "execution_count": 22,
            "metadata": {
                "tags": []
            },
            "outputs": [
                {
                    "name": "stdout",
                    "output_type": "stream",
                    "text": [
                        "649 projected deaths for 2025\n"
                    ]
                }
            ],
            "source": [
                "projected_total = read_csv(PROJECTED_CSV, index_col='county').drop(columns='crashes').sum().sum()\n",
                "print(f'{projected_total} projected deaths for {cur_year}')"
            ]
        },
        {
            "cell_type": "code",
            "execution_count": 23,
            "metadata": {
                "tags": []
            },
            "outputs": [
                {
                    "data": {
                        "text/html": [
                            "<div>\n",
                            "<style scoped>\n",
                            "    .dataframe tbody tr th:only-of-type {\n",
                            "        vertical-align: middle;\n",
                            "    }\n",
                            "\n",
                            "    .dataframe tbody tr th {\n",
                            "        vertical-align: top;\n",
                            "    }\n",
                            "\n",
                            "    .dataframe thead th {\n",
                            "        text-align: right;\n",
                            "    }\n",
                            "</style>\n",
                            "<table border=\"1\" class=\"dataframe\">\n",
                            "  <thead>\n",
                            "    <tr style=\"text-align: right;\">\n",
                            "      <th></th>\n",
                            "      <th>driver</th>\n",
                            "      <th>pedestrian</th>\n",
                            "      <th>passenger</th>\n",
                            "      <th>cyclist</th>\n",
                            "      <th>projected_total</th>\n",
                            "      <th>projected</th>\n",
                            "    </tr>\n",
                            "    <tr>\n",
                            "      <th>year</th>\n",
                            "      <th></th>\n",
                            "      <th></th>\n",
                            "      <th></th>\n",
                            "      <th></th>\n",
                            "      <th></th>\n",
                            "      <th></th>\n",
                            "    </tr>\n",
                            "  </thead>\n",
                            "  <tbody>\n",
                            "    <tr>\n",
                            "      <th>2008</th>\n",
                            "      <td>320</td>\n",
                            "      <td>138</td>\n",
                            "      <td>112</td>\n",
                            "      <td>20</td>\n",
                            "      <td>590</td>\n",
                            "      <td>0</td>\n",
                            "    </tr>\n",
                            "    <tr>\n",
                            "      <th>2009</th>\n",
                            "      <td>315</td>\n",
                            "      <td>157</td>\n",
                            "      <td>98</td>\n",
                            "      <td>14</td>\n",
                            "      <td>584</td>\n",
                            "      <td>0</td>\n",
                            "    </tr>\n",
                            "    <tr>\n",
                            "      <th>2010</th>\n",
                            "      <td>303</td>\n",
                            "      <td>141</td>\n",
                            "      <td>99</td>\n",
                            "      <td>13</td>\n",
                            "      <td>556</td>\n",
                            "      <td>0</td>\n",
                            "    </tr>\n",
                            "    <tr>\n",
                            "      <th>2011</th>\n",
                            "      <td>362</td>\n",
                            "      <td>143</td>\n",
                            "      <td>105</td>\n",
                            "      <td>17</td>\n",
                            "      <td>627</td>\n",
                            "      <td>0</td>\n",
                            "    </tr>\n",
                            "    <tr>\n",
                            "      <th>2012</th>\n",
                            "      <td>309</td>\n",
                            "      <td>163</td>\n",
                            "      <td>103</td>\n",
                            "      <td>14</td>\n",
                            "      <td>589</td>\n",
                            "      <td>0</td>\n",
                            "    </tr>\n",
                            "    <tr>\n",
                            "      <th>2013</th>\n",
                            "      <td>304</td>\n",
                            "      <td>132</td>\n",
                            "      <td>92</td>\n",
                            "      <td>14</td>\n",
                            "      <td>542</td>\n",
                            "      <td>0</td>\n",
                            "    </tr>\n",
                            "    <tr>\n",
                            "      <th>2014</th>\n",
                            "      <td>295</td>\n",
                            "      <td>170</td>\n",
                            "      <td>80</td>\n",
                            "      <td>11</td>\n",
                            "      <td>556</td>\n",
                            "      <td>0</td>\n",
                            "    </tr>\n",
                            "    <tr>\n",
                            "      <th>2015</th>\n",
                            "      <td>276</td>\n",
                            "      <td>173</td>\n",
                            "      <td>96</td>\n",
                            "      <td>17</td>\n",
                            "      <td>562</td>\n",
                            "      <td>0</td>\n",
                            "    </tr>\n",
                            "    <tr>\n",
                            "      <th>2016</th>\n",
                            "      <td>330</td>\n",
                            "      <td>166</td>\n",
                            "      <td>89</td>\n",
                            "      <td>17</td>\n",
                            "      <td>602</td>\n",
                            "      <td>0</td>\n",
                            "    </tr>\n",
                            "    <tr>\n",
                            "      <th>2017</th>\n",
                            "      <td>339</td>\n",
                            "      <td>183</td>\n",
                            "      <td>85</td>\n",
                            "      <td>17</td>\n",
                            "      <td>624</td>\n",
                            "      <td>0</td>\n",
                            "    </tr>\n",
                            "    <tr>\n",
                            "      <th>2018</th>\n",
                            "      <td>276</td>\n",
                            "      <td>175</td>\n",
                            "      <td>95</td>\n",
                            "      <td>17</td>\n",
                            "      <td>563</td>\n",
                            "      <td>0</td>\n",
                            "    </tr>\n",
                            "    <tr>\n",
                            "      <th>2019</th>\n",
                            "      <td>289</td>\n",
                            "      <td>176</td>\n",
                            "      <td>81</td>\n",
                            "      <td>12</td>\n",
                            "      <td>558</td>\n",
                            "      <td>0</td>\n",
                            "    </tr>\n",
                            "    <tr>\n",
                            "      <th>2020</th>\n",
                            "      <td>304</td>\n",
                            "      <td>179</td>\n",
                            "      <td>86</td>\n",
                            "      <td>18</td>\n",
                            "      <td>587</td>\n",
                            "      <td>0</td>\n",
                            "    </tr>\n",
                            "    <tr>\n",
                            "      <th>2021</th>\n",
                            "      <td>368</td>\n",
                            "      <td>217</td>\n",
                            "      <td>86</td>\n",
                            "      <td>26</td>\n",
                            "      <td>697</td>\n",
                            "      <td>0</td>\n",
                            "    </tr>\n",
                            "    <tr>\n",
                            "      <th>2022</th>\n",
                            "      <td>379</td>\n",
                            "      <td>191</td>\n",
                            "      <td>103</td>\n",
                            "      <td>16</td>\n",
                            "      <td>689</td>\n",
                            "      <td>0</td>\n",
                            "    </tr>\n",
                            "    <tr>\n",
                            "      <th>2023</th>\n",
                            "      <td>319</td>\n",
                            "      <td>171</td>\n",
                            "      <td>89</td>\n",
                            "      <td>27</td>\n",
                            "      <td>606</td>\n",
                            "      <td>0</td>\n",
                            "    </tr>\n",
                            "    <tr>\n",
                            "      <th>2024</th>\n",
                            "      <td>351</td>\n",
                            "      <td>227</td>\n",
                            "      <td>84</td>\n",
                            "      <td>23</td>\n",
                            "      <td>685</td>\n",
                            "      <td>0</td>\n",
                            "    </tr>\n",
                            "    <tr>\n",
                            "      <th>2025</th>\n",
                            "      <td>98</td>\n",
                            "      <td>49</td>\n",
                            "      <td>30</td>\n",
                            "      <td>5</td>\n",
                            "      <td>649</td>\n",
                            "      <td>467</td>\n",
                            "    </tr>\n",
                            "  </tbody>\n",
                            "</table>\n",
                            "</div>"
                        ],
                        "text/plain": [
                            "      driver  pedestrian  passenger  cyclist  projected_total  projected\n",
                            "year                                                                    \n",
                            "2008     320         138        112       20              590          0\n",
                            "2009     315         157         98       14              584          0\n",
                            "2010     303         141         99       13              556          0\n",
                            "2011     362         143        105       17              627          0\n",
                            "2012     309         163        103       14              589          0\n",
                            "2013     304         132         92       14              542          0\n",
                            "2014     295         170         80       11              556          0\n",
                            "2015     276         173         96       17              562          0\n",
                            "2016     330         166         89       17              602          0\n",
                            "2017     339         183         85       17              624          0\n",
                            "2018     276         175         95       17              563          0\n",
                            "2019     289         176         81       12              558          0\n",
                            "2020     304         179         86       18              587          0\n",
                            "2021     368         217         86       26              697          0\n",
                            "2022     379         191        103       16              689          0\n",
                            "2023     319         171         89       27              606          0\n",
                            "2024     351         227         84       23              685          0\n",
                            "2025      98          49         30        5              649        467"
                        ]
                    },
                    "execution_count": 23,
                    "metadata": {},
                    "output_type": "execute_result"
                }
            ],
            "source": [
                "year_types = (\n",
                "    sxs(\n",
                "        crashes.dt,\n",
                "        crashes.rename(columns=base_type_cols_map)[base_type_cols].fillna(0)\n",
                "    )\n",
                "    .groupby(dt.year.rename('year'))\n",
                "    .sum(numeric_only=True)\n",
                "    .astype(int)\n",
                ")\n",
                "# Patch in year-types.csv values for [2008, 2020]\n",
                "year_types.loc[range(2008, 2020)] = year_stats.loc[range(2008, 2020), base_type_cols]\n",
                "\n",
                "year_types['projected_total'] = fatalities_per_year\n",
                "year_types.loc[cur_year, 'projected_total'] = projected_total\n",
                "year_types['projected'] = year_types.projected_total - fatalities_per_year\n",
                "year_types"
            ]
        },
        {
            "cell_type": "markdown",
            "metadata": {
                "tags": []
            },
            "source": [
                "## Update {year,type,county} stats"
            ]
        },
        {
            "cell_type": "code",
            "execution_count": 24,
            "metadata": {
                "tags": []
            },
            "outputs": [],
            "source": [
                "from njsp.paths import ANNUAL_SUMMARIES_YTC_CSV"
            ]
        },
        {
            "cell_type": "markdown",
            "metadata": {
                "tags": []
            },
            "source": [
                "Load {year,type,county} subtotals from annual summary PDFs (see [NJSP summary PDFs.ipynb](data/njsp/annual-summaries/NJSP%20summary%20PDFs.ipynb)):"
            ]
        },
        {
            "cell_type": "code",
            "execution_count": 25,
            "metadata": {
                "tags": []
            },
            "outputs": [
                {
                    "data": {
                        "text/html": [
                            "<div>\n",
                            "<style scoped>\n",
                            "    .dataframe tbody tr th:only-of-type {\n",
                            "        vertical-align: middle;\n",
                            "    }\n",
                            "\n",
                            "    .dataframe tbody tr th {\n",
                            "        vertical-align: top;\n",
                            "    }\n",
                            "\n",
                            "    .dataframe thead th {\n",
                            "        text-align: right;\n",
                            "    }\n",
                            "</style>\n",
                            "<table border=\"1\" class=\"dataframe\">\n",
                            "  <thead>\n",
                            "    <tr style=\"text-align: right;\">\n",
                            "      <th></th>\n",
                            "      <th></th>\n",
                            "      <th>driver</th>\n",
                            "      <th>passenger</th>\n",
                            "      <th>cyclist</th>\n",
                            "      <th>pedestrian</th>\n",
                            "      <th>crashes</th>\n",
                            "    </tr>\n",
                            "    <tr>\n",
                            "      <th>year</th>\n",
                            "      <th>county</th>\n",
                            "      <th></th>\n",
                            "      <th></th>\n",
                            "      <th></th>\n",
                            "      <th></th>\n",
                            "      <th></th>\n",
                            "    </tr>\n",
                            "  </thead>\n",
                            "  <tbody>\n",
                            "    <tr>\n",
                            "      <th rowspan=\"5\" valign=\"top\">2008</th>\n",
                            "      <th>Atlantic</th>\n",
                            "      <td>17</td>\n",
                            "      <td>8</td>\n",
                            "      <td>0</td>\n",
                            "      <td>6</td>\n",
                            "      <td>30</td>\n",
                            "    </tr>\n",
                            "    <tr>\n",
                            "      <th>Bergen</th>\n",
                            "      <td>10</td>\n",
                            "      <td>5</td>\n",
                            "      <td>1</td>\n",
                            "      <td>7</td>\n",
                            "      <td>22</td>\n",
                            "    </tr>\n",
                            "    <tr>\n",
                            "      <th>Burlington</th>\n",
                            "      <td>23</td>\n",
                            "      <td>6</td>\n",
                            "      <td>4</td>\n",
                            "      <td>12</td>\n",
                            "      <td>45</td>\n",
                            "    </tr>\n",
                            "    <tr>\n",
                            "      <th>Camden</th>\n",
                            "      <td>25</td>\n",
                            "      <td>4</td>\n",
                            "      <td>0</td>\n",
                            "      <td>15</td>\n",
                            "      <td>42</td>\n",
                            "    </tr>\n",
                            "    <tr>\n",
                            "      <th>Cape May</th>\n",
                            "      <td>8</td>\n",
                            "      <td>3</td>\n",
                            "      <td>0</td>\n",
                            "      <td>0</td>\n",
                            "      <td>11</td>\n",
                            "    </tr>\n",
                            "    <tr>\n",
                            "      <th>...</th>\n",
                            "      <th>...</th>\n",
                            "      <td>...</td>\n",
                            "      <td>...</td>\n",
                            "      <td>...</td>\n",
                            "      <td>...</td>\n",
                            "      <td>...</td>\n",
                            "    </tr>\n",
                            "    <tr>\n",
                            "      <th rowspan=\"5\" valign=\"top\">2023</th>\n",
                            "      <th>Salem</th>\n",
                            "      <td>8</td>\n",
                            "      <td>2</td>\n",
                            "      <td>0</td>\n",
                            "      <td>2</td>\n",
                            "      <td>11</td>\n",
                            "    </tr>\n",
                            "    <tr>\n",
                            "      <th>Somerset</th>\n",
                            "      <td>13</td>\n",
                            "      <td>4</td>\n",
                            "      <td>0</td>\n",
                            "      <td>6</td>\n",
                            "      <td>21</td>\n",
                            "    </tr>\n",
                            "    <tr>\n",
                            "      <th>Sussex</th>\n",
                            "      <td>6</td>\n",
                            "      <td>2</td>\n",
                            "      <td>0</td>\n",
                            "      <td>1</td>\n",
                            "      <td>6</td>\n",
                            "    </tr>\n",
                            "    <tr>\n",
                            "      <th>Union</th>\n",
                            "      <td>14</td>\n",
                            "      <td>6</td>\n",
                            "      <td>2</td>\n",
                            "      <td>15</td>\n",
                            "      <td>35</td>\n",
                            "    </tr>\n",
                            "    <tr>\n",
                            "      <th>Warren</th>\n",
                            "      <td>7</td>\n",
                            "      <td>1</td>\n",
                            "      <td>0</td>\n",
                            "      <td>3</td>\n",
                            "      <td>11</td>\n",
                            "    </tr>\n",
                            "  </tbody>\n",
                            "</table>\n",
                            "<p>336 rows \u00d7 5 columns</p>\n",
                            "</div>"
                        ],
                        "text/plain": [
                            "                 driver  passenger  cyclist  pedestrian  crashes\n",
                            "year county                                                     \n",
                            "2008 Atlantic        17          8        0           6       30\n",
                            "     Bergen          10          5        1           7       22\n",
                            "     Burlington      23          6        4          12       45\n",
                            "     Camden          25          4        0          15       42\n",
                            "     Cape May         8          3        0           0       11\n",
                            "...                 ...        ...      ...         ...      ...\n",
                            "2023 Salem            8          2        0           2       11\n",
                            "     Somerset        13          4        0           6       21\n",
                            "     Sussex           6          2        0           1        6\n",
                            "     Union           14          6        2          15       35\n",
                            "     Warren           7          1        0           3       11\n",
                            "\n",
                            "[336 rows x 5 columns]"
                        ]
                    },
                    "execution_count": 25,
                    "metadata": {},
                    "output_type": "execute_result"
                }
            ],
            "source": [
                "ytc0 = read_csv(ANNUAL_SUMMARIES_YTC_CSV).set_index(['year', 'county']).astype(int)\n",
                "ytc0"
            ]
        },
        {
            "cell_type": "markdown",
            "metadata": {
                "tags": []
            },
            "source": [
                "Generate a similar dataframe from crash records:"
            ]
        },
        {
            "cell_type": "code",
            "execution_count": 26,
            "metadata": {
                "tags": []
            },
            "outputs": [],
            "source": [
                "from njdot.data import cc2cn"
            ]
        },
        {
            "cell_type": "code",
            "execution_count": 27,
            "metadata": {
                "tags": []
            },
            "outputs": [
                {
                    "data": {
                        "text/html": [
                            "<div>\n",
                            "<style scoped>\n",
                            "    .dataframe tbody tr th:only-of-type {\n",
                            "        vertical-align: middle;\n",
                            "    }\n",
                            "\n",
                            "    .dataframe tbody tr th {\n",
                            "        vertical-align: top;\n",
                            "    }\n",
                            "\n",
                            "    .dataframe thead th {\n",
                            "        text-align: right;\n",
                            "    }\n",
                            "</style>\n",
                            "<table border=\"1\" class=\"dataframe\">\n",
                            "  <thead>\n",
                            "    <tr style=\"text-align: right;\">\n",
                            "      <th></th>\n",
                            "      <th></th>\n",
                            "      <th>driver</th>\n",
                            "      <th>passenger</th>\n",
                            "      <th>cyclist</th>\n",
                            "      <th>pedestrian</th>\n",
                            "      <th>crashes</th>\n",
                            "    </tr>\n",
                            "    <tr>\n",
                            "      <th>year</th>\n",
                            "      <th>county</th>\n",
                            "      <th></th>\n",
                            "      <th></th>\n",
                            "      <th></th>\n",
                            "      <th></th>\n",
                            "      <th></th>\n",
                            "    </tr>\n",
                            "  </thead>\n",
                            "  <tbody>\n",
                            "    <tr>\n",
                            "      <th rowspan=\"5\" valign=\"top\">2020</th>\n",
                            "      <th>Atlantic</th>\n",
                            "      <td>26</td>\n",
                            "      <td>5</td>\n",
                            "      <td>0</td>\n",
                            "      <td>9</td>\n",
                            "      <td>38</td>\n",
                            "    </tr>\n",
                            "    <tr>\n",
                            "      <th>Bergen</th>\n",
                            "      <td>14</td>\n",
                            "      <td>9</td>\n",
                            "      <td>0</td>\n",
                            "      <td>20</td>\n",
                            "      <td>38</td>\n",
                            "    </tr>\n",
                            "    <tr>\n",
                            "      <th>Burlington</th>\n",
                            "      <td>26</td>\n",
                            "      <td>4</td>\n",
                            "      <td>3</td>\n",
                            "      <td>9</td>\n",
                            "      <td>40</td>\n",
                            "    </tr>\n",
                            "    <tr>\n",
                            "      <th>Camden</th>\n",
                            "      <td>19</td>\n",
                            "      <td>5</td>\n",
                            "      <td>1</td>\n",
                            "      <td>13</td>\n",
                            "      <td>36</td>\n",
                            "    </tr>\n",
                            "    <tr>\n",
                            "      <th>Cape May</th>\n",
                            "      <td>5</td>\n",
                            "      <td>0</td>\n",
                            "      <td>1</td>\n",
                            "      <td>3</td>\n",
                            "      <td>8</td>\n",
                            "    </tr>\n",
                            "    <tr>\n",
                            "      <th>...</th>\n",
                            "      <th>...</th>\n",
                            "      <td>...</td>\n",
                            "      <td>...</td>\n",
                            "      <td>...</td>\n",
                            "      <td>...</td>\n",
                            "      <td>...</td>\n",
                            "    </tr>\n",
                            "    <tr>\n",
                            "      <th rowspan=\"5\" valign=\"top\">2025</th>\n",
                            "      <th>Salem</th>\n",
                            "      <td>5</td>\n",
                            "      <td>0</td>\n",
                            "      <td>0</td>\n",
                            "      <td>2</td>\n",
                            "      <td>7</td>\n",
                            "    </tr>\n",
                            "    <tr>\n",
                            "      <th>Somerset</th>\n",
                            "      <td>4</td>\n",
                            "      <td>2</td>\n",
                            "      <td>0</td>\n",
                            "      <td>0</td>\n",
                            "      <td>6</td>\n",
                            "    </tr>\n",
                            "    <tr>\n",
                            "      <th>Sussex</th>\n",
                            "      <td>0</td>\n",
                            "      <td>1</td>\n",
                            "      <td>0</td>\n",
                            "      <td>0</td>\n",
                            "      <td>1</td>\n",
                            "    </tr>\n",
                            "    <tr>\n",
                            "      <th>Union</th>\n",
                            "      <td>2</td>\n",
                            "      <td>2</td>\n",
                            "      <td>0</td>\n",
                            "      <td>3</td>\n",
                            "      <td>7</td>\n",
                            "    </tr>\n",
                            "    <tr>\n",
                            "      <th>Warren</th>\n",
                            "      <td>2</td>\n",
                            "      <td>3</td>\n",
                            "      <td>0</td>\n",
                            "      <td>1</td>\n",
                            "      <td>6</td>\n",
                            "    </tr>\n",
                            "  </tbody>\n",
                            "</table>\n",
                            "<p>126 rows \u00d7 5 columns</p>\n",
                            "</div>"
                        ],
                        "text/plain": [
                            "                 driver  passenger  cyclist  pedestrian  crashes\n",
                            "year county                                                     \n",
                            "2020 Atlantic        26          5        0           9       38\n",
                            "     Bergen          14          9        0          20       38\n",
                            "     Burlington      26          4        3           9       40\n",
                            "     Camden          19          5        1          13       36\n",
                            "     Cape May         5          0        1           3        8\n",
                            "...                 ...        ...      ...         ...      ...\n",
                            "2025 Salem            5          0        0           2        7\n",
                            "     Somerset         4          2        0           0        6\n",
                            "     Sussex           0          1        0           0        1\n",
                            "     Union            2          2        0           3        7\n",
                            "     Warren           2          3        0           1        6\n",
                            "\n",
                            "[126 rows x 5 columns]"
                        ]
                    },
                    "execution_count": 27,
                    "metadata": {},
                    "output_type": "execute_result"
                }
            ],
            "source": [
                "ytc1 = (\n",
                "    crashes\n",
                "    .assign(year=dt.year, crashes=1, county=crashes.cc.map(cc2cn))\n",
                "    [dt.year >= 2020]\n",
                "    .rename(columns=dict(\n",
                "        **base_type_cols_map\n",
                "    ))\n",
                "    [['year', 'county'] + ytc0.columns.tolist()]\n",
                "    .groupby(['year', 'county'])\n",
                "    .sum(numeric_only=True)\n",
                "    .astype(int)\n",
                ")\n",
                "ytc1"
            ]
        },
        {
            "cell_type": "markdown",
            "metadata": {
                "tags": []
            },
            "source": [
                "Verify they match (for years \u22652020, where they overlap):"
            ]
        },
        {
            "cell_type": "code",
            "execution_count": 28,
            "metadata": {
                "tags": []
            },
            "outputs": [],
            "source": [
                "m = ytc0.merge(ytc1, left_index=True, right_index=True)\n",
                "m.columns = pd.MultiIndex.from_tuples([ (c[-1], c[:-2]) for c in m.columns ])\n",
                "diffs = m['x'] != m['y']\n",
                "has_diffs = diffs.any().any()\n",
                "if has_diffs:\n",
                "    xd = m['x'].loc[diffs.any(axis=1), diffs.any()]\n",
                "    xd.columns = pd.MultiIndex.from_tuples([ ('x', c) for c in xd.columns ])\n",
                "    yd = m['y'].loc[diffs.any(axis=1), diffs.any()]\n",
                "    yd.columns = pd.MultiIndex.from_tuples([ ('y', c) for c in yd.columns ])\n",
                "    diffs = sxs(xd, yd)\n",
                "else:\n",
                "    diffs = None\n",
                "diffs"
            ]
        },
        {
            "cell_type": "code",
            "execution_count": 29,
            "metadata": {
                "tags": []
            },
            "outputs": [],
            "source": [
                "assert not has_diffs, diffs"
            ]
        },
        {
            "cell_type": "markdown",
            "metadata": {
                "tags": []
            },
            "source": [
                "Combine:"
            ]
        },
        {
            "cell_type": "code",
            "execution_count": 30,
            "metadata": {
                "tags": []
            },
            "outputs": [
                {
                    "data": {
                        "text/html": [
                            "<div>\n",
                            "<style scoped>\n",
                            "    .dataframe tbody tr th:only-of-type {\n",
                            "        vertical-align: middle;\n",
                            "    }\n",
                            "\n",
                            "    .dataframe tbody tr th {\n",
                            "        vertical-align: top;\n",
                            "    }\n",
                            "\n",
                            "    .dataframe thead th {\n",
                            "        text-align: right;\n",
                            "    }\n",
                            "</style>\n",
                            "<table border=\"1\" class=\"dataframe\">\n",
                            "  <thead>\n",
                            "    <tr style=\"text-align: right;\">\n",
                            "      <th></th>\n",
                            "      <th></th>\n",
                            "      <th>driver</th>\n",
                            "      <th>passenger</th>\n",
                            "      <th>cyclist</th>\n",
                            "      <th>pedestrian</th>\n",
                            "      <th>crashes</th>\n",
                            "    </tr>\n",
                            "    <tr>\n",
                            "      <th>year</th>\n",
                            "      <th>county</th>\n",
                            "      <th></th>\n",
                            "      <th></th>\n",
                            "      <th></th>\n",
                            "      <th></th>\n",
                            "      <th></th>\n",
                            "    </tr>\n",
                            "  </thead>\n",
                            "  <tbody>\n",
                            "    <tr>\n",
                            "      <th rowspan=\"5\" valign=\"top\">2008</th>\n",
                            "      <th>Atlantic</th>\n",
                            "      <td>17</td>\n",
                            "      <td>8</td>\n",
                            "      <td>0</td>\n",
                            "      <td>6</td>\n",
                            "      <td>30</td>\n",
                            "    </tr>\n",
                            "    <tr>\n",
                            "      <th>Bergen</th>\n",
                            "      <td>10</td>\n",
                            "      <td>5</td>\n",
                            "      <td>1</td>\n",
                            "      <td>7</td>\n",
                            "      <td>22</td>\n",
                            "    </tr>\n",
                            "    <tr>\n",
                            "      <th>Burlington</th>\n",
                            "      <td>23</td>\n",
                            "      <td>6</td>\n",
                            "      <td>4</td>\n",
                            "      <td>12</td>\n",
                            "      <td>45</td>\n",
                            "    </tr>\n",
                            "    <tr>\n",
                            "      <th>Camden</th>\n",
                            "      <td>25</td>\n",
                            "      <td>4</td>\n",
                            "      <td>0</td>\n",
                            "      <td>15</td>\n",
                            "      <td>42</td>\n",
                            "    </tr>\n",
                            "    <tr>\n",
                            "      <th>Cape May</th>\n",
                            "      <td>8</td>\n",
                            "      <td>3</td>\n",
                            "      <td>0</td>\n",
                            "      <td>0</td>\n",
                            "      <td>11</td>\n",
                            "    </tr>\n",
                            "    <tr>\n",
                            "      <th>...</th>\n",
                            "      <th>...</th>\n",
                            "      <td>...</td>\n",
                            "      <td>...</td>\n",
                            "      <td>...</td>\n",
                            "      <td>...</td>\n",
                            "      <td>...</td>\n",
                            "    </tr>\n",
                            "    <tr>\n",
                            "      <th rowspan=\"5\" valign=\"top\">2025</th>\n",
                            "      <th>Salem</th>\n",
                            "      <td>5</td>\n",
                            "      <td>0</td>\n",
                            "      <td>0</td>\n",
                            "      <td>2</td>\n",
                            "      <td>7</td>\n",
                            "    </tr>\n",
                            "    <tr>\n",
                            "      <th>Somerset</th>\n",
                            "      <td>4</td>\n",
                            "      <td>2</td>\n",
                            "      <td>0</td>\n",
                            "      <td>0</td>\n",
                            "      <td>6</td>\n",
                            "    </tr>\n",
                            "    <tr>\n",
                            "      <th>Sussex</th>\n",
                            "      <td>0</td>\n",
                            "      <td>1</td>\n",
                            "      <td>0</td>\n",
                            "      <td>0</td>\n",
                            "      <td>1</td>\n",
                            "    </tr>\n",
                            "    <tr>\n",
                            "      <th>Union</th>\n",
                            "      <td>2</td>\n",
                            "      <td>2</td>\n",
                            "      <td>0</td>\n",
                            "      <td>3</td>\n",
                            "      <td>7</td>\n",
                            "    </tr>\n",
                            "    <tr>\n",
                            "      <th>Warren</th>\n",
                            "      <td>2</td>\n",
                            "      <td>3</td>\n",
                            "      <td>0</td>\n",
                            "      <td>1</td>\n",
                            "      <td>6</td>\n",
                            "    </tr>\n",
                            "  </tbody>\n",
                            "</table>\n",
                            "<p>378 rows \u00d7 5 columns</p>\n",
                            "</div>"
                        ],
                        "text/plain": [
                            "                 driver  passenger  cyclist  pedestrian  crashes\n",
                            "year county                                                     \n",
                            "2008 Atlantic        17          8        0           6       30\n",
                            "     Bergen          10          5        1           7       22\n",
                            "     Burlington      23          6        4          12       45\n",
                            "     Camden          25          4        0          15       42\n",
                            "     Cape May         8          3        0           0       11\n",
                            "...                 ...        ...      ...         ...      ...\n",
                            "2025 Salem            5          0        0           2        7\n",
                            "     Somerset         4          2        0           0        6\n",
                            "     Sussex           0          1        0           0        1\n",
                            "     Union            2          2        0           3        7\n",
                            "     Warren           2          3        0           1        6\n",
                            "\n",
                            "[378 rows x 5 columns]"
                        ]
                    },
                    "execution_count": 30,
                    "metadata": {},
                    "output_type": "execute_result"
                }
            ],
            "source": [
                "y0 = ytc0.index.levels[0]\n",
                "y1 = ytc1.index.levels[0]\n",
                "ytc = pd.concat([\n",
                "    ytc0.drop(index=y0[y0.isin(y1)], level=0),\n",
                "    ytc1,\n",
                "])\n",
                "ytc"
            ]
        },
        {
            "cell_type": "markdown",
            "metadata": {
                "tags": []
            },
            "source": [
                "Export:"
            ]
        },
        {
            "cell_type": "code",
            "execution_count": 31,
            "metadata": {
                "tags": []
            },
            "outputs": [],
            "source": [
                "from njsp.paths import YTC_CSV, YTC_PQT, YTC_DB, YTC_DB_URI"
            ]
        },
        {
            "cell_type": "code",
            "execution_count": 32,
            "metadata": {
                "tags": []
            },
            "outputs": [
                {
                    "name": "stderr",
                    "output_type": "stream",
                    "text": [
                        "Writing njsp/data/year-type-county.csv\n"
                    ]
                }
            ],
            "source": [
                "for ytc_fmt in ytc_fmts.split(','):\n",
                "    if ytc_fmt == 'csv':\n",
                "        err(f'Writing {relpath(YTC_CSV)}')\n",
                "        ytc.to_csv(YTC_CSV)\n",
                "    elif ytc_fmt == 'pqt':\n",
                "        err(f'Writing {relpath(YTC_PQT)}')\n",
                "        ytc.to_parquet(YTC_PQT)\n",
                "    elif ytc_fmt == 'db':\n",
                "        err(f'Writing {relpath(YTC_DB)}')\n",
                "        ytc.to_sql('ytc', YTC_DB_URI, if_exists='replace')\n",
                "    else:\n",
                "        raise ValueError(f'Unrecognized ytc_fmt {ytc_fmt}')"
            ]
        },
        {
            "cell_type": "markdown",
            "metadata": {
                "tags": []
            },
            "source": [
                "## Fatalities per year (by type)"
            ]
        },
        {
            "cell_type": "code",
            "execution_count": 33,
            "metadata": {
                "scrolled": true,
                "tags": []
            },
            "outputs": [
                {
                    "name": "stdout",
                    "output_type": "stream",
                    "text": [
                        "#000004 #320c56 #781c6d #ba3853 #ed6925 #f9b621 #fcffa4\n"
                    ]
                },
                {
                    "data": {
                        "text/markdown": [
                            "<span style=\"font-family: monospace\">#000004 <span style=\"color: #000004\">\u2588\u2588\u2588\u2588\u2588\u2588</span></span> <span style=\"font-family: monospace\">#320c56 <span style=\"color: #320c56\">\u2588\u2588\u2588\u2588\u2588\u2588</span></span> <span style=\"font-family: monospace\">#781c6d <span style=\"color: #781c6d\">\u2588\u2588\u2588\u2588\u2588\u2588</span></span> <span style=\"font-family: monospace\">#ba3853 <span style=\"color: #ba3853\">\u2588\u2588\u2588\u2588\u2588\u2588</span></span> <span style=\"font-family: monospace\">#ed6925 <span style=\"color: #ed6925\">\u2588\u2588\u2588\u2588\u2588\u2588</span></span> <span style=\"font-family: monospace\">#f9b621 <span style=\"color: #f9b621\">\u2588\u2588\u2588\u2588\u2588\u2588</span></span> <span style=\"font-family: monospace\">#fcffa4 <span style=\"color: #fcffa4\">\u2588\u2588\u2588\u2588\u2588\u2588</span></span>"
                        ],
                        "text/plain": [
                            "<IPython.core.display.Markdown object>"
                        ]
                    },
                    "metadata": {},
                    "output_type": "display_data"
                }
            ],
            "source": [
                "ytc = colors_lengthen(px_colors, 7)\n",
                "print(' '.join(ytc))\n",
                "swatches(ytc)"
            ]
        },
        {
            "cell_type": "code",
            "execution_count": 34,
            "metadata": {
                "tags": []
            },
            "outputs": [
                {
                    "data": {
                        "text/plain": [
                            "{'cyclist': 'Cyclists',\n",
                            " 'driver': 'Drivers',\n",
                            " 'pedestrian': 'Pedestrians',\n",
                            " 'passenger': 'Passengers',\n",
                            " 'projected': 'Projected'}"
                        ]
                    },
                    "execution_count": 34,
                    "metadata": {},
                    "output_type": "execute_result"
                }
            ],
            "source": [
                "type_cols = [\n",
                "    'cyclist',\n",
                "    'driver',\n",
                "    'pedestrian',\n",
                "    'passenger',\n",
                "    'projected',\n",
                "]\n",
                "type_cols_map = {\n",
                "    c: f'{c[0].upper()}{c[1:]}{\"s\" if c != \"projected\" else \"\"}'\n",
                "    for c in type_cols\n",
                "}\n",
                "type_cols_map"
            ]
        },
        {
            "cell_type": "code",
            "execution_count": 35,
            "metadata": {
                "tags": []
            },
            "outputs": [
                {
                    "name": "stderr",
                    "output_type": "stream",
                    "text": [
                        "Wrote plot JSON to www/public/plots/fatalities_per_year_by_type.json\n"
                    ]
                },
                {
                    "name": "stderr",
                    "output_type": "stream",
                    "text": [
                        "Wrote plot image to www/public/plots/fatalities_per_year_by_type.png\n",
                        "Wrote plot image to www/public/plots/fatalities_per_year_by_type_titled.png\n"
                    ]
                }
            ],
            "source": [
                "fig = px.bar(\n",
                "    year_types[type_cols].rename(columns=type_cols_map).replace(0, nan),\n",
                "    barmode='stack',\n",
                "    color_discrete_sequence=ytc[1:],\n",
                "    text_auto='d',\n",
                ")\n",
                "for year, projected_total in year_types.projected_total.to_dict().items():\n",
                "    fig.add_annotation(\n",
                "        x=year, y=projected_total,\n",
                "        text=projected_total,\n",
                "        showarrow=False,\n",
                "        yshift=10,\n",
                "    )\n",
                "save(\n",
                "    fig,\n",
                "    'fatalities_per_year_by_type',\n",
                "    f'NJ Traffic Deaths per Year (by victim type)',\n",
                "    x=dict(dtick='y', title=None), xgrid=None,\n",
                "    y=dict(dtick=50, title=None),\n",
                "    png=(1200, 600),\n",
                ");"
            ]
        },
        {
            "cell_type": "markdown",
            "metadata": {
                "tags": []
            },
            "source": [
                "![](../www/public/plots/fatalities_per_year_by_type_titled.png)"
            ]
        },
        {
            "cell_type": "markdown",
            "metadata": {
                "tags": []
            },
            "source": [
                "## Fatalities per month (by victim type)"
            ]
        },
        {
            "cell_type": "code",
            "execution_count": 36,
            "metadata": {
                "scrolled": true,
                "tags": []
            },
            "outputs": [
                {
                    "data": {
                        "text/html": [
                            "<div>\n",
                            "<style scoped>\n",
                            "    .dataframe tbody tr th:only-of-type {\n",
                            "        vertical-align: middle;\n",
                            "    }\n",
                            "\n",
                            "    .dataframe tbody tr th {\n",
                            "        vertical-align: top;\n",
                            "    }\n",
                            "\n",
                            "    .dataframe thead th {\n",
                            "        text-align: right;\n",
                            "    }\n",
                            "</style>\n",
                            "<table border=\"1\" class=\"dataframe\">\n",
                            "  <thead>\n",
                            "    <tr style=\"text-align: right;\">\n",
                            "      <th></th>\n",
                            "      <th>driver</th>\n",
                            "      <th>pedestrian</th>\n",
                            "      <th>passenger</th>\n",
                            "      <th>cyclist</th>\n",
                            "    </tr>\n",
                            "    <tr>\n",
                            "      <th>dt</th>\n",
                            "      <th></th>\n",
                            "      <th></th>\n",
                            "      <th></th>\n",
                            "      <th></th>\n",
                            "    </tr>\n",
                            "  </thead>\n",
                            "  <tbody>\n",
                            "    <tr>\n",
                            "      <th>2020-01</th>\n",
                            "      <td>21</td>\n",
                            "      <td>18</td>\n",
                            "      <td>8</td>\n",
                            "      <td>2</td>\n",
                            "    </tr>\n",
                            "    <tr>\n",
                            "      <th>2020-02</th>\n",
                            "      <td>15</td>\n",
                            "      <td>17</td>\n",
                            "      <td>2</td>\n",
                            "      <td>0</td>\n",
                            "    </tr>\n",
                            "    <tr>\n",
                            "      <th>2020-03</th>\n",
                            "      <td>11</td>\n",
                            "      <td>16</td>\n",
                            "      <td>8</td>\n",
                            "      <td>1</td>\n",
                            "    </tr>\n",
                            "    <tr>\n",
                            "      <th>2020-04</th>\n",
                            "      <td>17</td>\n",
                            "      <td>8</td>\n",
                            "      <td>2</td>\n",
                            "      <td>1</td>\n",
                            "    </tr>\n",
                            "    <tr>\n",
                            "      <th>2020-05</th>\n",
                            "      <td>28</td>\n",
                            "      <td>13</td>\n",
                            "      <td>9</td>\n",
                            "      <td>2</td>\n",
                            "    </tr>\n",
                            "    <tr>\n",
                            "      <th>2020-06</th>\n",
                            "      <td>30</td>\n",
                            "      <td>8</td>\n",
                            "      <td>9</td>\n",
                            "      <td>0</td>\n",
                            "    </tr>\n",
                            "    <tr>\n",
                            "      <th>2020-07</th>\n",
                            "      <td>30</td>\n",
                            "      <td>19</td>\n",
                            "      <td>8</td>\n",
                            "      <td>5</td>\n",
                            "    </tr>\n",
                            "    <tr>\n",
                            "      <th>2020-08</th>\n",
                            "      <td>31</td>\n",
                            "      <td>8</td>\n",
                            "      <td>14</td>\n",
                            "      <td>1</td>\n",
                            "    </tr>\n",
                            "    <tr>\n",
                            "      <th>2020-09</th>\n",
                            "      <td>31</td>\n",
                            "      <td>21</td>\n",
                            "      <td>5</td>\n",
                            "      <td>0</td>\n",
                            "    </tr>\n",
                            "    <tr>\n",
                            "      <th>2020-10</th>\n",
                            "      <td>33</td>\n",
                            "      <td>17</td>\n",
                            "      <td>5</td>\n",
                            "      <td>3</td>\n",
                            "    </tr>\n",
                            "    <tr>\n",
                            "      <th>2020-11</th>\n",
                            "      <td>35</td>\n",
                            "      <td>16</td>\n",
                            "      <td>9</td>\n",
                            "      <td>3</td>\n",
                            "    </tr>\n",
                            "    <tr>\n",
                            "      <th>2020-12</th>\n",
                            "      <td>22</td>\n",
                            "      <td>18</td>\n",
                            "      <td>7</td>\n",
                            "      <td>0</td>\n",
                            "    </tr>\n",
                            "    <tr>\n",
                            "      <th>2021-01</th>\n",
                            "      <td>29</td>\n",
                            "      <td>15</td>\n",
                            "      <td>5</td>\n",
                            "      <td>0</td>\n",
                            "    </tr>\n",
                            "    <tr>\n",
                            "      <th>2021-02</th>\n",
                            "      <td>17</td>\n",
                            "      <td>4</td>\n",
                            "      <td>5</td>\n",
                            "      <td>0</td>\n",
                            "    </tr>\n",
                            "    <tr>\n",
                            "      <th>2021-03</th>\n",
                            "      <td>34</td>\n",
                            "      <td>13</td>\n",
                            "      <td>7</td>\n",
                            "      <td>1</td>\n",
                            "    </tr>\n",
                            "    <tr>\n",
                            "      <th>2021-04</th>\n",
                            "      <td>18</td>\n",
                            "      <td>17</td>\n",
                            "      <td>6</td>\n",
                            "      <td>1</td>\n",
                            "    </tr>\n",
                            "    <tr>\n",
                            "      <th>2021-05</th>\n",
                            "      <td>23</td>\n",
                            "      <td>12</td>\n",
                            "      <td>6</td>\n",
                            "      <td>4</td>\n",
                            "    </tr>\n",
                            "    <tr>\n",
                            "      <th>2021-06</th>\n",
                            "      <td>36</td>\n",
                            "      <td>19</td>\n",
                            "      <td>5</td>\n",
                            "      <td>3</td>\n",
                            "    </tr>\n",
                            "    <tr>\n",
                            "      <th>2021-07</th>\n",
                            "      <td>35</td>\n",
                            "      <td>18</td>\n",
                            "      <td>10</td>\n",
                            "      <td>5</td>\n",
                            "    </tr>\n",
                            "    <tr>\n",
                            "      <th>2021-08</th>\n",
                            "      <td>34</td>\n",
                            "      <td>26</td>\n",
                            "      <td>5</td>\n",
                            "      <td>1</td>\n",
                            "    </tr>\n",
                            "    <tr>\n",
                            "      <th>2021-09</th>\n",
                            "      <td>40</td>\n",
                            "      <td>15</td>\n",
                            "      <td>11</td>\n",
                            "      <td>3</td>\n",
                            "    </tr>\n",
                            "    <tr>\n",
                            "      <th>2021-10</th>\n",
                            "      <td>43</td>\n",
                            "      <td>30</td>\n",
                            "      <td>6</td>\n",
                            "      <td>3</td>\n",
                            "    </tr>\n",
                            "    <tr>\n",
                            "      <th>2021-11</th>\n",
                            "      <td>29</td>\n",
                            "      <td>28</td>\n",
                            "      <td>11</td>\n",
                            "      <td>3</td>\n",
                            "    </tr>\n",
                            "    <tr>\n",
                            "      <th>2021-12</th>\n",
                            "      <td>30</td>\n",
                            "      <td>20</td>\n",
                            "      <td>9</td>\n",
                            "      <td>2</td>\n",
                            "    </tr>\n",
                            "    <tr>\n",
                            "      <th>2022-01</th>\n",
                            "      <td>28</td>\n",
                            "      <td>17</td>\n",
                            "      <td>7</td>\n",
                            "      <td>0</td>\n",
                            "    </tr>\n",
                            "    <tr>\n",
                            "      <th>2022-02</th>\n",
                            "      <td>22</td>\n",
                            "      <td>14</td>\n",
                            "      <td>4</td>\n",
                            "      <td>0</td>\n",
                            "    </tr>\n",
                            "    <tr>\n",
                            "      <th>2022-03</th>\n",
                            "      <td>31</td>\n",
                            "      <td>11</td>\n",
                            "      <td>3</td>\n",
                            "      <td>1</td>\n",
                            "    </tr>\n",
                            "    <tr>\n",
                            "      <th>2022-04</th>\n",
                            "      <td>26</td>\n",
                            "      <td>10</td>\n",
                            "      <td>7</td>\n",
                            "      <td>6</td>\n",
                            "    </tr>\n",
                            "    <tr>\n",
                            "      <th>2022-05</th>\n",
                            "      <td>42</td>\n",
                            "      <td>15</td>\n",
                            "      <td>8</td>\n",
                            "      <td>4</td>\n",
                            "    </tr>\n",
                            "    <tr>\n",
                            "      <th>2022-06</th>\n",
                            "      <td>44</td>\n",
                            "      <td>14</td>\n",
                            "      <td>10</td>\n",
                            "      <td>0</td>\n",
                            "    </tr>\n",
                            "    <tr>\n",
                            "      <th>2022-07</th>\n",
                            "      <td>41</td>\n",
                            "      <td>15</td>\n",
                            "      <td>20</td>\n",
                            "      <td>1</td>\n",
                            "    </tr>\n",
                            "    <tr>\n",
                            "      <th>2022-08</th>\n",
                            "      <td>32</td>\n",
                            "      <td>13</td>\n",
                            "      <td>11</td>\n",
                            "      <td>0</td>\n",
                            "    </tr>\n",
                            "    <tr>\n",
                            "      <th>2022-09</th>\n",
                            "      <td>32</td>\n",
                            "      <td>20</td>\n",
                            "      <td>13</td>\n",
                            "      <td>3</td>\n",
                            "    </tr>\n",
                            "    <tr>\n",
                            "      <th>2022-10</th>\n",
                            "      <td>31</td>\n",
                            "      <td>23</td>\n",
                            "      <td>3</td>\n",
                            "      <td>0</td>\n",
                            "    </tr>\n",
                            "    <tr>\n",
                            "      <th>2022-11</th>\n",
                            "      <td>29</td>\n",
                            "      <td>17</td>\n",
                            "      <td>11</td>\n",
                            "      <td>0</td>\n",
                            "    </tr>\n",
                            "    <tr>\n",
                            "      <th>2022-12</th>\n",
                            "      <td>21</td>\n",
                            "      <td>22</td>\n",
                            "      <td>6</td>\n",
                            "      <td>1</td>\n",
                            "    </tr>\n",
                            "    <tr>\n",
                            "      <th>2023-01</th>\n",
                            "      <td>17</td>\n",
                            "      <td>24</td>\n",
                            "      <td>5</td>\n",
                            "      <td>2</td>\n",
                            "    </tr>\n",
                            "    <tr>\n",
                            "      <th>2023-02</th>\n",
                            "      <td>22</td>\n",
                            "      <td>11</td>\n",
                            "      <td>4</td>\n",
                            "      <td>0</td>\n",
                            "    </tr>\n",
                            "    <tr>\n",
                            "      <th>2023-03</th>\n",
                            "      <td>17</td>\n",
                            "      <td>12</td>\n",
                            "      <td>4</td>\n",
                            "      <td>1</td>\n",
                            "    </tr>\n",
                            "    <tr>\n",
                            "      <th>2023-04</th>\n",
                            "      <td>24</td>\n",
                            "      <td>11</td>\n",
                            "      <td>4</td>\n",
                            "      <td>0</td>\n",
                            "    </tr>\n",
                            "    <tr>\n",
                            "      <th>2023-05</th>\n",
                            "      <td>29</td>\n",
                            "      <td>9</td>\n",
                            "      <td>10</td>\n",
                            "      <td>0</td>\n",
                            "    </tr>\n",
                            "    <tr>\n",
                            "      <th>2023-06</th>\n",
                            "      <td>40</td>\n",
                            "      <td>10</td>\n",
                            "      <td>8</td>\n",
                            "      <td>2</td>\n",
                            "    </tr>\n",
                            "    <tr>\n",
                            "      <th>2023-07</th>\n",
                            "      <td>28</td>\n",
                            "      <td>5</td>\n",
                            "      <td>10</td>\n",
                            "      <td>6</td>\n",
                            "    </tr>\n",
                            "    <tr>\n",
                            "      <th>2023-08</th>\n",
                            "      <td>35</td>\n",
                            "      <td>11</td>\n",
                            "      <td>11</td>\n",
                            "      <td>3</td>\n",
                            "    </tr>\n",
                            "    <tr>\n",
                            "      <th>2023-09</th>\n",
                            "      <td>25</td>\n",
                            "      <td>16</td>\n",
                            "      <td>3</td>\n",
                            "      <td>5</td>\n",
                            "    </tr>\n",
                            "    <tr>\n",
                            "      <th>2023-10</th>\n",
                            "      <td>29</td>\n",
                            "      <td>18</td>\n",
                            "      <td>13</td>\n",
                            "      <td>4</td>\n",
                            "    </tr>\n",
                            "    <tr>\n",
                            "      <th>2023-11</th>\n",
                            "      <td>30</td>\n",
                            "      <td>20</td>\n",
                            "      <td>7</td>\n",
                            "      <td>3</td>\n",
                            "    </tr>\n",
                            "    <tr>\n",
                            "      <th>2023-12</th>\n",
                            "      <td>23</td>\n",
                            "      <td>24</td>\n",
                            "      <td>10</td>\n",
                            "      <td>1</td>\n",
                            "    </tr>\n",
                            "    <tr>\n",
                            "      <th>2024-01</th>\n",
                            "      <td>16</td>\n",
                            "      <td>25</td>\n",
                            "      <td>7</td>\n",
                            "      <td>0</td>\n",
                            "    </tr>\n",
                            "    <tr>\n",
                            "      <th>2024-02</th>\n",
                            "      <td>26</td>\n",
                            "      <td>15</td>\n",
                            "      <td>8</td>\n",
                            "      <td>2</td>\n",
                            "    </tr>\n",
                            "    <tr>\n",
                            "      <th>2024-03</th>\n",
                            "      <td>29</td>\n",
                            "      <td>13</td>\n",
                            "      <td>7</td>\n",
                            "      <td>1</td>\n",
                            "    </tr>\n",
                            "    <tr>\n",
                            "      <th>2024-04</th>\n",
                            "      <td>28</td>\n",
                            "      <td>21</td>\n",
                            "      <td>7</td>\n",
                            "      <td>0</td>\n",
                            "    </tr>\n",
                            "    <tr>\n",
                            "      <th>2024-05</th>\n",
                            "      <td>29</td>\n",
                            "      <td>11</td>\n",
                            "      <td>8</td>\n",
                            "      <td>1</td>\n",
                            "    </tr>\n",
                            "    <tr>\n",
                            "      <th>2024-06</th>\n",
                            "      <td>37</td>\n",
                            "      <td>15</td>\n",
                            "      <td>7</td>\n",
                            "      <td>5</td>\n",
                            "    </tr>\n",
                            "    <tr>\n",
                            "      <th>2024-07</th>\n",
                            "      <td>29</td>\n",
                            "      <td>12</td>\n",
                            "      <td>1</td>\n",
                            "      <td>3</td>\n",
                            "    </tr>\n",
                            "    <tr>\n",
                            "      <th>2024-08</th>\n",
                            "      <td>30</td>\n",
                            "      <td>19</td>\n",
                            "      <td>8</td>\n",
                            "      <td>5</td>\n",
                            "    </tr>\n",
                            "    <tr>\n",
                            "      <th>2024-09</th>\n",
                            "      <td>37</td>\n",
                            "      <td>17</td>\n",
                            "      <td>7</td>\n",
                            "      <td>1</td>\n",
                            "    </tr>\n",
                            "    <tr>\n",
                            "      <th>2024-10</th>\n",
                            "      <td>38</td>\n",
                            "      <td>27</td>\n",
                            "      <td>10</td>\n",
                            "      <td>3</td>\n",
                            "    </tr>\n",
                            "    <tr>\n",
                            "      <th>2024-11</th>\n",
                            "      <td>29</td>\n",
                            "      <td>32</td>\n",
                            "      <td>5</td>\n",
                            "      <td>2</td>\n",
                            "    </tr>\n",
                            "    <tr>\n",
                            "      <th>2024-12</th>\n",
                            "      <td>23</td>\n",
                            "      <td>20</td>\n",
                            "      <td>9</td>\n",
                            "      <td>0</td>\n",
                            "    </tr>\n",
                            "    <tr>\n",
                            "      <th>2025-01</th>\n",
                            "      <td>18</td>\n",
                            "      <td>11</td>\n",
                            "      <td>6</td>\n",
                            "      <td>0</td>\n",
                            "    </tr>\n",
                            "    <tr>\n",
                            "      <th>2025-02</th>\n",
                            "      <td>24</td>\n",
                            "      <td>14</td>\n",
                            "      <td>4</td>\n",
                            "      <td>0</td>\n",
                            "    </tr>\n",
                            "    <tr>\n",
                            "      <th>2025-03</th>\n",
                            "      <td>20</td>\n",
                            "      <td>8</td>\n",
                            "      <td>9</td>\n",
                            "      <td>2</td>\n",
                            "    </tr>\n",
                            "    <tr>\n",
                            "      <th>2025-04</th>\n",
                            "      <td>32</td>\n",
                            "      <td>9</td>\n",
                            "      <td>9</td>\n",
                            "      <td>2</td>\n",
                            "    </tr>\n",
                            "    <tr>\n",
                            "      <th>2025-05</th>\n",
                            "      <td>4</td>\n",
                            "      <td>7</td>\n",
                            "      <td>2</td>\n",
                            "      <td>1</td>\n",
                            "    </tr>\n",
                            "  </tbody>\n",
                            "</table>\n",
                            "</div>"
                        ],
                        "text/plain": [
                            "         driver  pedestrian  passenger  cyclist\n",
                            "dt                                             \n",
                            "2020-01      21          18          8        2\n",
                            "2020-02      15          17          2        0\n",
                            "2020-03      11          16          8        1\n",
                            "2020-04      17           8          2        1\n",
                            "2020-05      28          13          9        2\n",
                            "2020-06      30           8          9        0\n",
                            "2020-07      30          19          8        5\n",
                            "2020-08      31           8         14        1\n",
                            "2020-09      31          21          5        0\n",
                            "2020-10      33          17          5        3\n",
                            "2020-11      35          16          9        3\n",
                            "2020-12      22          18          7        0\n",
                            "2021-01      29          15          5        0\n",
                            "2021-02      17           4          5        0\n",
                            "2021-03      34          13          7        1\n",
                            "2021-04      18          17          6        1\n",
                            "2021-05      23          12          6        4\n",
                            "2021-06      36          19          5        3\n",
                            "2021-07      35          18         10        5\n",
                            "2021-08      34          26          5        1\n",
                            "2021-09      40          15         11        3\n",
                            "2021-10      43          30          6        3\n",
                            "2021-11      29          28         11        3\n",
                            "2021-12      30          20          9        2\n",
                            "2022-01      28          17          7        0\n",
                            "2022-02      22          14          4        0\n",
                            "2022-03      31          11          3        1\n",
                            "2022-04      26          10          7        6\n",
                            "2022-05      42          15          8        4\n",
                            "2022-06      44          14         10        0\n",
                            "2022-07      41          15         20        1\n",
                            "2022-08      32          13         11        0\n",
                            "2022-09      32          20         13        3\n",
                            "2022-10      31          23          3        0\n",
                            "2022-11      29          17         11        0\n",
                            "2022-12      21          22          6        1\n",
                            "2023-01      17          24          5        2\n",
                            "2023-02      22          11          4        0\n",
                            "2023-03      17          12          4        1\n",
                            "2023-04      24          11          4        0\n",
                            "2023-05      29           9         10        0\n",
                            "2023-06      40          10          8        2\n",
                            "2023-07      28           5         10        6\n",
                            "2023-08      35          11         11        3\n",
                            "2023-09      25          16          3        5\n",
                            "2023-10      29          18         13        4\n",
                            "2023-11      30          20          7        3\n",
                            "2023-12      23          24         10        1\n",
                            "2024-01      16          25          7        0\n",
                            "2024-02      26          15          8        2\n",
                            "2024-03      29          13          7        1\n",
                            "2024-04      28          21          7        0\n",
                            "2024-05      29          11          8        1\n",
                            "2024-06      37          15          7        5\n",
                            "2024-07      29          12          1        3\n",
                            "2024-08      30          19          8        5\n",
                            "2024-09      37          17          7        1\n",
                            "2024-10      38          27         10        3\n",
                            "2024-11      29          32          5        2\n",
                            "2024-12      23          20          9        0\n",
                            "2025-01      18          11          6        0\n",
                            "2025-02      24          14          4        0\n",
                            "2025-03      20           8          9        2\n",
                            "2025-04      32           9          9        2\n",
                            "2025-05       4           7          2        1"
                        ]
                    },
                    "execution_count": 36,
                    "metadata": {},
                    "output_type": "execute_result"
                }
            ],
            "source": [
                "month_types = (\n",
                "    sxs(\n",
                "        crashes.dt,\n",
                "        crashes.rename(columns=base_type_cols_map)[base_type_cols].fillna(0)\n",
                "    )\n",
                "    [ dt.year >= 2020 ]\n",
                "    .groupby([\n",
                "        dt.year.rename('year'),\n",
                "        dt.month.rename('month'),\n",
                "    ])\n",
                "    [base_type_cols]\n",
                "    .sum()\n",
                "    .astype(int)\n",
                ")\n",
                "\n",
                "month_types = month_types.reset_index()\n",
                "month_types['dt'] = (\n",
                "    month_types\n",
                "    [['year', 'month']]\n",
                "    .apply(lambda r: '%04d-%02d' % (r['year'], r['month']), axis=1)\n",
                ")\n",
                "month_types = month_types.set_index('dt').drop(columns=['year', 'month'])\n",
                "month_types"
            ]
        },
        {
            "cell_type": "code",
            "execution_count": 37,
            "metadata": {
                "tags": []
            },
            "outputs": [
                {
                    "name": "stderr",
                    "output_type": "stream",
                    "text": [
                        "Wrote plot JSON to www/public/plots/fatalities_per_month_by_type.json\n",
                        "Wrote plot image to www/public/plots/fatalities_per_month_by_type.png\n",
                        "Wrote plot image to www/public/plots/fatalities_per_month_by_type_titled.png\n"
                    ]
                }
            ],
            "source": [
                "type_colors = colors_lengthen(px_colors, 7)\n",
                "\n",
                "fig = px.line(\n",
                "    month_types.rename(columns=type_cols_map).loc[to_dt(month_types.index).tz_localize(TZ) < cur_month],\n",
                "    labels={'variable': '',},\n",
                "    color_discrete_sequence=type_colors,\n",
                ")\n",
                "fig.update_traces(line=dict(width=3))\n",
                "save(\n",
                "    fig,\n",
                "    'fatalities_per_month_by_type',\n",
                "    title='NJ Traffic Deaths per Month (by victim type)',\n",
                "    x=dict(\n",
                "        title='',\n",
                "        tickformat=\"%b '%y\",\n",
                "    ),\n",
                "    y='',\n",
                "    png=800,\n",
                ");"
            ]
        },
        {
            "cell_type": "markdown",
            "metadata": {
                "tags": []
            },
            "source": [
                "![](../www/public/plots/fatalities_per_month_by_type_titled.png)"
            ]
        },
        {
            "cell_type": "markdown",
            "metadata": {
                "tags": []
            },
            "source": [
                "## Fatalities per month"
            ]
        },
        {
            "cell_type": "code",
            "execution_count": 38,
            "metadata": {
                "tags": []
            },
            "outputs": [
                {
                    "data": {
                        "text/plain": [
                            "ym\n",
                            "2008-01-01    2008-01-01\n",
                            "2008-02-01    2008-02-01\n",
                            "2008-03-01    2008-03-01\n",
                            "2008-04-01    2008-04-01\n",
                            "2008-05-01    2008-05-01\n",
                            "                 ...    \n",
                            "2024-12-01    2024-12-01\n",
                            "2025-01-01    2025-01-01\n",
                            "2025-02-01    2025-02-01\n",
                            "2025-03-01    2025-03-01\n",
                            "2025-04-01    2025-04-01\n",
                            "Name: ym, Length: 208, dtype: object"
                        ]
                    },
                    "execution_count": 38,
                    "metadata": {},
                    "output_type": "execute_result"
                }
            ],
            "source": [
                "to_dt(fatalities_per_month.index).to_series().dt.date"
            ]
        },
        {
            "cell_type": "code",
            "execution_count": 39,
            "metadata": {
                "tags": []
            },
            "outputs": [
                {
                    "data": {
                        "text/plain": [
                            "ym\n",
                            "2008-01-01    2008-01-01\n",
                            "2008-02-01    2008-02-01\n",
                            "2008-03-01    2008-03-01\n",
                            "2008-04-01    2008-04-01\n",
                            "2008-05-01    2008-05-01\n",
                            "                 ...    \n",
                            "2024-12-01    2024-12-01\n",
                            "2025-01-01    2025-01-01\n",
                            "2025-02-01    2025-02-01\n",
                            "2025-03-01    2025-03-01\n",
                            "2025-04-01    2025-04-01\n",
                            "Name: ym, Length: 208, dtype: object"
                        ]
                    },
                    "execution_count": 39,
                    "metadata": {},
                    "output_type": "execute_result"
                }
            ],
            "source": [
                "to_dt(rolling.index).to_series().dt.date"
            ]
        },
        {
            "cell_type": "code",
            "execution_count": 40,
            "metadata": {
                "tags": []
            },
            "outputs": [
                {
                    "name": "stderr",
                    "output_type": "stream",
                    "text": [
                        "Wrote plot JSON to www/public/plots/fatalities_per_month.json\n",
                        "Wrote plot image to www/public/plots/fatalities_per_month.png\n",
                        "Wrote plot image to www/public/plots/fatalities_per_month_titled.png\n"
                    ]
                }
            ],
            "source": [
                "fig = go.Figure()\n",
                "fig.add_trace(go.Bar(\n",
                "    x=to_dt(fatalities_per_month.index).to_series(),\n",
                "    y=fatalities_per_month.values,\n",
                "    name='Fatalities',\n",
                "    marker_color=red,\n",
                "))\n",
                "fig.add_trace(go.Scatter(\n",
                "    x=to_dt(rolling.index).to_series(),\n",
                "    y=rolling.apply(partial(round, ndigits=1)),\n",
                "    name='12mo avg',\n",
                "    line={'width': 4, 'color': black, }\n",
                "))\n",
                "save(\n",
                "    fig,\n",
                "    'fatalities_per_month',\n",
                "    'NJ Traffic Deaths per Month',\n",
                "    x=dict(dtick='M12'),\n",
                "    png=(1200, 600),\n",
                ");"
            ]
        },
        {
            "cell_type": "markdown",
            "metadata": {
                "tags": []
            },
            "source": [
                "![](../www/public/plots/fatalities_per_month_titled.png)"
            ]
        },
        {
            "cell_type": "code",
            "execution_count": 41,
            "metadata": {
                "tags": []
            },
            "outputs": [
                {
                    "name": "stdout",
                    "output_type": "stream",
                    "text": [
                        "Jan Feb Mar Apr May Jun Jul Aug Sep Oct Nov Dec\n"
                    ]
                }
            ],
            "source": [
                "month_names = [ to_dt('2022-%02d' % i).strftime('%b') for i in range(1, 13) ]\n",
                "print(' '.join(month_names))"
            ]
        },
        {
            "cell_type": "code",
            "execution_count": 42,
            "metadata": {
                "tags": []
            },
            "outputs": [
                {
                    "name": "stderr",
                    "output_type": "stream",
                    "text": [
                        "Wrote plot JSON to www/public/plots/fatalities_by_month_bars.json\n",
                        "Wrote plot image to www/public/plots/fatalities_by_month_bars.png\n"
                    ]
                },
                {
                    "name": "stderr",
                    "output_type": "stream",
                    "text": [
                        "Wrote plot image to www/public/plots/fatalities_by_month_bars_titled.png\n"
                    ]
                }
            ],
            "source": [
                "fig = px.bar(\n",
                "    x=pivoted.month,\n",
                "    y=pivoted.tk,\n",
                "    color=pivoted.year.astype(str),\n",
                "    color_discrete_sequence=year_colors,\n",
                "    labels=dict(color='', x='', y='',),\n",
                "    barmode='group',\n",
                ")\n",
                "save(\n",
                "    fig,\n",
                "    'fatalities_by_month_bars',\n",
                "    'NJ Traffic Deaths, grouped by month',\n",
                "    legend='reversed',\n",
                "    xaxis=dict(\n",
                "        tickmode='array',\n",
                "        tickvals=list(range(1, 13)),\n",
                "        ticktext=month_names,\n",
                "    ),\n",
                "    png=(1200, 700),\n",
                ");"
            ]
        },
        {
            "cell_type": "markdown",
            "metadata": {
                "tags": []
            },
            "source": [
                "![](../www/public/plots/fatalities_by_month_bars_titled.png)"
            ]
        },
        {
            "cell_type": "code",
            "execution_count": 43,
            "metadata": {
                "tags": []
            },
            "outputs": [
                {
                    "name": "stderr",
                    "output_type": "stream",
                    "text": [
                        "Wrote plot JSON to www/public/plots/fatalities_by_month_lines.json\n",
                        "Wrote plot image to www/public/plots/fatalities_by_month_lines.png\n"
                    ]
                },
                {
                    "name": "stderr",
                    "output_type": "stream",
                    "text": [
                        "Wrote plot image to www/public/plots/fatalities_by_month_lines_titled.png\n"
                    ]
                }
            ],
            "source": [
                "fig = px.line(\n",
                "    x = pivoted.month,\n",
                "    y = pivoted.tk,\n",
                "    color = pivoted.year,\n",
                "    color_discrete_sequence=year_colors,\n",
                "    labels={ 'color': '', 'x': '', 'y': '' },\n",
                ").update_yaxes(\n",
                "    gridcolor=gridcolor,\n",
                ")\n",
                "save(\n",
                "    fig,\n",
                "    title='NJ Traffic Deaths by Month',\n",
                "    name='fatalities_by_month_lines',\n",
                "    xaxis=dict(\n",
                "        tickmode='array',\n",
                "        tickvals=list(range(1, 13)),\n",
                "        ticktext=month_names,\n",
                "    ),\n",
                "    legend='reversed',\n",
                "    png=(1200, 700),\n",
                ");"
            ]
        },
        {
            "cell_type": "markdown",
            "metadata": {
                "tags": []
            },
            "source": [
                "![](../www/public/plots/fatalities_by_month_lines_titled.png)"
            ]
        }
    ],
    "metadata": {
        "kernelspec": {
            "display_name": "Python 3 (ipykernel)",
            "language": "python",
            "name": "python3"
        },
        "language_info": {
            "codemirror_mode": {
                "name": "ipython",
                "version": 3
            },
            "file_extension": ".py",
            "mimetype": "text/x-python",
            "name": "python",
            "nbconvert_exporter": "python",
            "pygments_lexer": "ipython3",
            "version": "3.11.8"
        }
    },
    "nbformat": 4,
    "nbformat_minor": 5
}